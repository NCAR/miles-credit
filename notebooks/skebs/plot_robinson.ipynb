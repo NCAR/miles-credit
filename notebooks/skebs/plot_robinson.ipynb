{
 "cells": [
  {
   "cell_type": "code",
   "execution_count": 1,
   "metadata": {},
   "outputs": [],
   "source": [
    "import xarray as xr\n",
    "from glob import glob\n",
    "from os.path import join"
   ]
  },
  {
   "cell_type": "code",
   "execution_count": 2,
   "metadata": {},
   "outputs": [],
   "source": [
    "day = \"out_2012-06-05T00Z/*\"\n",
    "\n",
    "rollout = \"/glade/derecho/scratch/dkimpara/CREDIT_runs/fcnn_6_12h_train_filter/forecast/\"\n",
    "rollout = \"/glade/derecho/scratch/dkimpara/CREDIT_runs/camulator_weather_rollout/forecast/2012-06-05T00Z/*\"\n",
    "rollout = \"/glade/derecho/scratch/dkimpara/CREDIT_runs/fcnn_6_12h/forecast/out_2012-06-05T00Z/*\"\n",
    "rollout_dir = \"/glade/derecho/scratch/dkimpara/CREDIT_runs/skebs_fcnn_scaled_train/forecast_backup\"\n",
    "\n",
    "all_files = sorted(glob(join(rollout_dir, day)))\n"
   ]
  },
  {
   "cell_type": "code",
   "execution_count": null,
   "metadata": {},
   "outputs": [],
   "source": [
    "datasets = []\n",
    "for file in all_files:\n",
    "    datasets.append(xr.open_dataset(file))\n",
    "DS_all = xr.concat(datasets, dim='time')"
   ]
  },
  {
   "cell_type": "code",
   "execution_count": 8,
   "metadata": {},
   "outputs": [],
   "source": [
    "DS = DS_all.sel(ensemble_member_label=0)"
   ]
  },
  {
   "cell_type": "code",
   "execution_count": 9,
   "metadata": {},
   "outputs": [],
   "source": [
    "batch_size = 10\n",
    "num_cpus = 10\n",
    "variable, level = \"U\", 24"
   ]
  },
  {
   "cell_type": "code",
   "execution_count": 10,
   "metadata": {},
   "outputs": [
    {
     "name": "stdout",
     "output_type": "stream",
     "text": [
      "starting\n"
     ]
    },
    {
     "name": "stderr",
     "output_type": "stream",
     "text": [
      "Rendering batch 1:   0%|          | 0/10 [00:00<?, ?it/s]"
     ]
    },
    {
     "name": "stderr",
     "output_type": "stream",
     "text": [
      "Rendering batch 1: 100%|██████████| 10/10 [00:12<00:00,  1.23s/it]\n",
      "Rendering batch 2: 100%|██████████| 10/10 [00:12<00:00,  1.23s/it]\n",
      "Rendering batch 3: 100%|██████████| 10/10 [00:12<00:00,  1.28s/it]\n",
      "Rendering batch 4: 100%|██████████| 10/10 [00:08<00:00,  1.11it/s]\n",
      "Rendering batch 5: 100%|██████████| 10/10 [00:10<00:00,  1.01s/it]\n",
      "Rendering batch 6: 100%|██████████| 10/10 [00:09<00:00,  1.01it/s]\n"
     ]
    },
    {
     "name": "stdout",
     "output_type": "stream",
     "text": [
      "Combining frames into video...\n"
     ]
    },
    {
     "name": "stderr",
     "output_type": "stream",
     "text": [
      "ffmpeg version 7.1 Copyright (c) 2000-2024 the FFmpeg developers\n",
      "  built with gcc 13.3.0 (conda-forge gcc 13.3.0-1)\n",
      "  configuration: --prefix=/home/conda/feedstock_root/build_artifacts/ffmpeg_1732155191655/_h_env_placehold_placehold_placehold_placehold_placehold_placehold_placehold_placehold_placehold_placehold_placehold_placehold_placehold_placehold_placehold_placehold_placehold_placehold_plac --cc=/home/conda/feedstock_root/build_artifacts/ffmpeg_1732155191655/_build_env/bin/x86_64-conda-linux-gnu-cc --cxx=/home/conda/feedstock_root/build_artifacts/ffmpeg_1732155191655/_build_env/bin/x86_64-conda-linux-gnu-c++ --nm=/home/conda/feedstock_root/build_artifacts/ffmpeg_1732155191655/_build_env/bin/x86_64-conda-linux-gnu-nm --ar=/home/conda/feedstock_root/build_artifacts/ffmpeg_1732155191655/_build_env/bin/x86_64-conda-linux-gnu-ar --disable-doc --enable-openssl --enable-demuxer=dash --enable-hardcoded-tables --enable-libfreetype --enable-libharfbuzz --enable-libfontconfig --enable-libopenh264 --enable-libdav1d --disable-gnutls --enable-libmp3lame --enable-libvpx --enable-libass --enable-pthreads --enable-vaapi --enable-libopenvino --enable-gpl --enable-libx264 --enable-libx265 --enable-libaom --enable-libsvtav1 --enable-libxml2 --enable-pic --enable-shared --disable-static --enable-version3 --enable-zlib --enable-libopus --enable-librsvg --pkg-config=/home/conda/feedstock_root/build_artifacts/ffmpeg_1732155191655/_build_env/bin/pkg-config\n",
      "  libavutil      59. 39.100 / 59. 39.100\n",
      "  libavcodec     61. 19.100 / 61. 19.100\n",
      "  libavformat    61.  7.100 / 61.  7.100\n",
      "  libavdevice    61.  3.100 / 61.  3.100\n",
      "  libavfilter    10.  4.100 / 10.  4.100\n",
      "  libswscale      8.  3.100 /  8.  3.100\n",
      "  libswresample   5.  3.100 /  5.  3.100\n",
      "  libpostproc    58.  3.100 / 58.  3.100\n",
      "Input #0, image2, from 'frame_*.png':\n",
      "  Duration: 00:00:02.40, start: 0.000000, bitrate: N/A\n",
      "  Stream #0:0: Video: png, rgba(pc, gbr/unknown/unknown), 779x428 [SAR 3937:3937 DAR 779:428], 25 fps, 25 tbr, 25 tbn\n",
      "Stream mapping:\n",
      "  Stream #0:0 -> #0:0 (png (native) -> h264 (libx264))\n",
      "Press [q] to stop, [?] for help\n",
      "[libx264 @ 0x55b33e728b00] using SAR=779/778\n",
      "[libx264 @ 0x55b33e728b00] using cpu capabilities: MMX2 SSE2Fast SSSE3 SSE4.2 AVX FMA3 BMI2 AVX2 AVX512\n",
      "[libx264 @ 0x55b33e728b00] profile High, level 2.2, 4:2:0, 8-bit\n",
      "[libx264 @ 0x55b33e728b00] 264 - core 164 r3095 baee400 - H.264/MPEG-4 AVC codec - Copyleft 2003-2022 - http://www.videolan.org/x264.html - options: cabac=1 ref=3 deblock=1:0:0 analyse=0x3:0x113 me=hex subme=7 psy=1 psy_rd=1.00:0.00 mixed_ref=1 me_range=16 chroma_me=1 trellis=1 8x8dct=1 cqm=0 deadzone=21,11 fast_pskip=1 chroma_qp_offset=-2 threads=13 lookahead_threads=2 sliced_threads=0 nr=0 decimate=1 interlaced=0 bluray_compat=0 constrained_intra=0 bframes=3 b_pyramid=2 b_adapt=1 b_bias=0 direct=1 weightb=1 open_gop=0 weightp=2 keyint=250 keyint_min=12 scenecut=40 intra_refresh=0 rc_lookahead=40 rc=crf mbtree=1 crf=23.0 qcomp=0.60 qpmin=0 qpmax=69 qpstep=4 ip_ratio=1.40 aq=1:1.00\n",
      "Output #0, mp4, to 'Robinson_U24_dynamic_earth.mp4':\n",
      "  Metadata:\n",
      "    encoder         : Lavf61.7.100\n",
      "  Stream #0:0: Video: h264 (avc1 / 0x31637661), yuv420p(tv, progressive), 778x428 [SAR 779:778 DAR 779:428], q=2-31, 12 fps, 12288 tbn\n",
      "      Metadata:\n",
      "        encoder         : Lavc61.19.100 libx264\n",
      "      Side data:\n",
      "        cpb: bitrate max/min/avg: 0/0/0 buffer size: 0 vbv_delay: N/A\n"
     ]
    },
    {
     "name": "stdout",
     "output_type": "stream",
     "text": [
      "Animation saved as Robinson_U24_dynamic_earth.mp4\n"
     ]
    },
    {
     "name": "stderr",
     "output_type": "stream",
     "text": [
      "[out#0/mp4 @ 0x55b33e727440] video:1177KiB audio:0KiB subtitle:0KiB other streams:0KiB global headers:0KiB muxing overhead: 0.133371%\n",
      "frame=   60 fps=0.0 q=-1.0 Lsize=    1179KiB time=00:00:04.83 bitrate=1998.2kbits/s speed=14.7x    \n",
      "[libx264 @ 0x55b33e728b00] frame I:1     Avg QP:22.20  size: 39023\n",
      "[libx264 @ 0x55b33e728b00] frame P:15    Avg QP:25.32  size: 30251\n",
      "[libx264 @ 0x55b33e728b00] frame B:44    Avg QP:27.08  size: 16186\n",
      "[libx264 @ 0x55b33e728b00] consecutive B-frames:  1.7%  0.0%  5.0% 93.3%\n",
      "[libx264 @ 0x55b33e728b00] mb I  I16..4: 15.3% 35.8% 48.9%\n",
      "[libx264 @ 0x55b33e728b00] mb P  I16..4:  1.1% 11.3% 19.3%  P16..4: 11.5% 13.0% 12.4%  0.0%  0.0%    skip:31.3%\n",
      "[libx264 @ 0x55b33e728b00] mb B  I16..4:  0.4%  1.5%  3.4%  B16..8: 16.4% 17.4% 15.4%  direct:10.1%  skip:35.4%  L0:40.5% L1:37.3% BI:22.1%\n",
      "[libx264 @ 0x55b33e728b00] 8x8 transform intra:33.5% inter:48.2%\n",
      "[libx264 @ 0x55b33e728b00] coded y,uvDC,uvAC intra: 76.6% 86.1% 84.6% inter: 37.6% 32.6% 19.1%\n",
      "[libx264 @ 0x55b33e728b00] i16 v,h,dc,p: 46% 41% 13%  0%\n",
      "[libx264 @ 0x55b33e728b00] i8 v,h,dc,ddl,ddr,vr,hd,vl,hu:  8% 22% 25%  5%  7%  4% 14%  4% 12%\n",
      "[libx264 @ 0x55b33e728b00] i4 v,h,dc,ddl,ddr,vr,hd,vl,hu:  9% 32% 12%  5%  8%  5% 14%  4% 11%\n",
      "[libx264 @ 0x55b33e728b00] i8c dc,h,v,p: 43% 40%  8%  9%\n",
      "[libx264 @ 0x55b33e728b00] Weighted P-Frames: Y:0.0% UV:0.0%\n",
      "[libx264 @ 0x55b33e728b00] ref P L0: 47.8%  9.7% 23.3% 19.2%\n",
      "[libx264 @ 0x55b33e728b00] ref B L0: 88.1%  8.0%  3.9%\n",
      "[libx264 @ 0x55b33e728b00] ref B L1: 97.6%  2.4%\n",
      "[libx264 @ 0x55b33e728b00] kb/s:1927.96\n"
     ]
    }
   ],
   "source": [
    "import matplotlib.pyplot as plt\n",
    "from matplotlib.animation import FuncAnimation\n",
    "import cartopy.crs as ccrs\n",
    "import numpy as np\n",
    "import cmocean\n",
    "from tqdm import tqdm\n",
    "import multiprocessing as mp\n",
    "import os\n",
    "\n",
    "# Parameters for customization\n",
    "central_latitude = 23.5  # Earth's axial tilt ~23.5°\n",
    "fps = 12\n",
    "output_file = f\"Robinson_{variable}{level if variable in 'UVTQtot' else ''}_dynamic_earth.mp4\"\n",
    "\n",
    "# Assuming `DS` is a dataset object with variables 'longitude', 'latitude', 'PRECT', and 'time'\n",
    "print('starting')\n",
    "\n",
    "# Data grid\n",
    "lons = DS['longitude'].values\n",
    "lats = DS['latitude'].values\n",
    "lon_grid, lat_grid = np.meshgrid(lons, lats)\n",
    "\n",
    "# Wrap longitude grid for smooth transitions\n",
    "lon_grid_wrapped = np.concatenate((lon_grid, lon_grid[:, :1] + 360), axis=1)\n",
    "lat_grid_wrapped = np.concatenate((lat_grid, lat_grid[:, :1]), axis=1)  # Adjust lat_grid for consistency\n",
    "if variable in \"UVTQtot\":\n",
    "    data_np = DS[variable].sel(level=level).values\n",
    "else:\n",
    "    data_np = DS['U10'].values\n",
    "\n",
    "# Wrap data for smooth transitions\n",
    "data_wrapped = np.concatenate((data_np, data_np[:, :, :1]), axis=2)\n",
    "\n",
    "# Function to generate a single frame\n",
    "def generate_frame(frame):\n",
    "    fig = plt.figure(figsize=(10, 5))\n",
    "    ax = plt.axes(projection=ccrs.Robinson(central_longitude=180))\n",
    "    ax.set_global()\n",
    "    ax.coastlines()\n",
    "\n",
    "    vma = 20\n",
    "    data = data_wrapped[frame, :, :]\n",
    "\n",
    "    # Plot the data\n",
    "    img = ax.contourf(\n",
    "        lon_grid_wrapped, lat_grid_wrapped, data, 60, transform=ccrs.PlateCarree(), cmap=cmocean.cm.curl, vmin=0, vmax=vma\n",
    "    )\n",
    "\n",
    "    # Add a title based on time\n",
    "    current_time = str(DS['time'].values[frame])[:10]  # Truncate to the day\n",
    "    ax.set_title(f\"Time: {current_time}\", fontsize=14)\n",
    "\n",
    "    # Save the frame\n",
    "    frame_file = f\"frame_{frame:06d}.png\"\n",
    "    plt.savefig(frame_file, dpi=100, bbox_inches='tight')\n",
    "    plt.close(fig)\n",
    "    return frame_file\n",
    "\n",
    "# Parallel frame generation in batches\n",
    "frames = np.arange(0, len(all_files), 1)\n",
    "frame_files = []\n",
    "\n",
    "for batch_start in range(0, len(frames), batch_size):\n",
    "    batch_frames = frames[batch_start:batch_start + batch_size]\n",
    "    with tqdm(total=len(batch_frames), desc=f\"Rendering batch {batch_start // batch_size + 1}\") as pbar:\n",
    "        with mp.Pool(processes=num_cpus) as pool:\n",
    "            for frame_file in pool.imap_unordered(generate_frame, batch_frames):\n",
    "                frame_files.append(frame_file)\n",
    "                pbar.update(1)\n",
    "\n",
    "# Debugging: Check if all frames are generated\n",
    "for frame_file in frame_files:\n",
    "    if not os.path.exists(frame_file):\n",
    "        print(f\"Warning: Frame file {frame_file} does not exist.\")\n",
    "\n",
    "# Combine frames into video using ffmpeg\n",
    "print(\"Combining frames into video...\")\n",
    "if frame_files:\n",
    "    # os.system(\"ls frame_*.png\")  # List generated files for debugging\n",
    "    os.system(f\"ffmpeg -r {fps} -pattern_type glob -i 'frame_*.png' -vf 'scale=trunc(iw/2)*2:trunc(ih/2)*2' -vcodec libx264 -pix_fmt yuv420p -y {output_file}\")\n",
    "else:\n",
    "    print(\"No frames found to combine.\")\n",
    "\n",
    "print(\"Animation saved as\", output_file)"
   ]
  },
  {
   "cell_type": "code",
   "execution_count": null,
   "metadata": {},
   "outputs": [],
   "source": []
  }
 ],
 "metadata": {
  "kernelspec": {
   "display_name": "Python 3",
   "language": "python",
   "name": "python3"
  },
  "language_info": {
   "codemirror_mode": {
    "name": "ipython",
    "version": 3
   },
   "file_extension": ".py",
   "mimetype": "text/x-python",
   "name": "python",
   "nbconvert_exporter": "python",
   "pygments_lexer": "ipython3",
   "version": "3.11.9"
  }
 },
 "nbformat": 4,
 "nbformat_minor": 4
}
