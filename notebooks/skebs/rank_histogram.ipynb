{
 "cells": [
  {
   "cell_type": "code",
   "execution_count": 1,
   "metadata": {},
   "outputs": [],
   "source": [
    "from credit.data import get_forward_data\n",
    "from glob import glob\n",
    "import os\n",
    "import xarray as xr\n",
    "import numpy as np\n",
    "import pandas as pd\n",
    "from matplotlib import pyplot as plt\n",
    "from os.path import join\n",
    "from credit.xr_sampler import XRSamplerByYear\n",
    "import yaml"
   ]
  },
  {
   "cell_type": "code",
   "execution_count": 2,
   "metadata": {},
   "outputs": [],
   "source": []
  },
  {
   "cell_type": "code",
   "execution_count": 3,
   "metadata": {},
   "outputs": [],
   "source": [
    "eval_fh = 48\n",
    "variable, level = \"U\", 24\n",
    "\n",
    "rollout_dir = \"/glade/derecho/scratch/dkimpara/CREDIT_runs/skebs_diss_train\"\n",
    "rollout_files = glob(join(rollout_dir, f\"2012*/*{eval_fh:03}.nc\")) + glob(join(rollout_dir, f\"2013*/*{eval_fh:03}.nc\"))\n"
   ]
  },
  {
   "cell_type": "markdown",
   "metadata": {},
   "source": [
    "#### debug option"
   ]
  },
  {
   "cell_type": "code",
   "execution_count": 3,
   "metadata": {},
   "outputs": [],
   "source": [
    "# rollout_files = rollout_files[:2]"
   ]
  },
  {
   "cell_type": "markdown",
   "metadata": {},
   "source": [
    "## concat data"
   ]
  },
  {
   "cell_type": "code",
   "execution_count": 2,
   "metadata": {},
   "outputs": [],
   "source": [
    "with open(\"/glade/derecho/scratch/dkimpara/CREDIT_runs/skebs_diss_train/model.yml\") as cf:\n",
    "    conf = yaml.load(cf, Loader=yaml.FullLoader)\n",
    "\n",
    "sampler = XRSamplerByYear(conf)\n",
    "\n",
    "def select_darray(ds_given):\n",
    "    ds_sel = ds_given[variable]\n",
    "    if variable in \"UVTQtot\":\n",
    "        return ds_sel.isel(level=level)\n",
    "    return ds_sel\n",
    "\n",
    "\n",
    "# get pred and true data\n",
    "pred_da_list = []\n",
    "true_da_list = []\n",
    "for file in rollout_files:\n",
    "    ds = xr.open_dataset(file)\n",
    "    da = select_darray(ds)\n",
    "    pred_da_list.append(da)\n",
    "    \n",
    "    da_true = select_darray(sampler(da.time.values[0]))\n",
    "    true_da_list.append(da_true)\n",
    "\n",
    "da_pred = xr.concat(pred_da_list, dim='time')\n",
    "da_true = xr.concat(true_da_list, dim='time')\n",
    "return da_pred, da_true"
   ]
  },
  {
   "cell_type": "markdown",
   "metadata": {},
   "source": [
    "# rank histogram"
   ]
  },
  {
   "cell_type": "code",
   "execution_count": null,
   "metadata": {},
   "outputs": [],
   "source": [
    "from xskillscore import rank_histogram"
   ]
  },
  {
   "cell_type": "code",
   "execution_count": 8,
   "metadata": {},
   "outputs": [],
   "source": [
    "rh = rank_histogram(da_true, da_pred, member_dim=\"ensemble_member_label\")"
   ]
  },
  {
   "cell_type": "code",
   "execution_count": 9,
   "metadata": {
    "scrolled": true
   },
   "outputs": [
    {
     "data": {
      "text/plain": [
       "array([36282, 33478, 35953, 38098, 40790, 43361, 44422, 45043, 46025,\n",
       "       46610, 45779, 45389, 44802, 43763, 42412, 41758, 39866, 38179,\n",
       "       36772, 35541, 33972, 32141, 31027, 29335, 27958, 26462, 24739,\n",
       "       23638, 22378, 20931, 19937, 18926, 17693, 16429, 15823, 14895,\n",
       "       13712, 12819, 11957, 11255, 10394,  9880,  9094,  8502,  7944,\n",
       "        7257,  6682,  6680, 10321])"
      ]
     },
     "execution_count": 9,
     "metadata": {},
     "output_type": "execute_result"
    }
   ],
   "source": [
    "rh.values"
   ]
  },
  {
   "cell_type": "code",
   "execution_count": 10,
   "metadata": {},
   "outputs": [
    {
     "ename": "NameError",
     "evalue": "name 'tropics_only' is not defined",
     "output_type": "error",
     "traceback": [
      "\u001b[0;31m---------------------------------------------------------------------------\u001b[0m",
      "\u001b[0;31mNameError\u001b[0m                                 Traceback (most recent call last)",
      "Cell \u001b[0;32mIn[10], line 2\u001b[0m\n\u001b[1;32m      1\u001b[0m (rh \u001b[38;5;241m/\u001b[39m rh\u001b[38;5;241m.\u001b[39msum() \u001b[38;5;241m*\u001b[39m \u001b[38;5;241m100\u001b[39m)\u001b[38;5;241m.\u001b[39mplot()\n\u001b[0;32m----> 2\u001b[0m plt\u001b[38;5;241m.\u001b[39mtitle(\u001b[38;5;124mf\u001b[39m\u001b[38;5;124m\"\u001b[39m\u001b[38;5;132;01m{\u001b[39;00meval_fh\u001b[38;5;132;01m}\u001b[39;00m\u001b[38;5;124mhr \u001b[39m\u001b[38;5;132;01m{\u001b[39;00mvariable\u001b[38;5;132;01m}\u001b[39;00m\u001b[38;5;132;01m{\u001b[39;00mlevel\u001b[38;5;250m \u001b[39m\u001b[38;5;28;01mif\u001b[39;00m\u001b[38;5;250m \u001b[39mvariable\u001b[38;5;250m \u001b[39m\u001b[38;5;129;01min\u001b[39;00m\u001b[38;5;250m \u001b[39m\u001b[38;5;124m'\u001b[39m\u001b[38;5;124mUVTQtot\u001b[39m\u001b[38;5;124m'\u001b[39m\u001b[38;5;250m \u001b[39m\u001b[38;5;28;01melse\u001b[39;00m\u001b[38;5;250m \u001b[39m\u001b[38;5;124m'\u001b[39m\u001b[38;5;124m'\u001b[39m\u001b[38;5;132;01m}\u001b[39;00m\u001b[38;5;132;01m{\u001b[39;00m\u001b[38;5;124m'\u001b[39m\u001b[38;5;124m tropics\u001b[39m\u001b[38;5;124m'\u001b[39m\u001b[38;5;250m \u001b[39m\u001b[38;5;28;01mif\u001b[39;00m\u001b[38;5;250m \u001b[39m\u001b[43mtropics_only\u001b[49m\u001b[38;5;250m \u001b[39m\u001b[38;5;28;01melse\u001b[39;00m\u001b[38;5;250m \u001b[39m\u001b[38;5;124m'\u001b[39m\u001b[38;5;124m'\u001b[39m\u001b[38;5;132;01m}\u001b[39;00m\u001b[38;5;124m\"\u001b[39m)\n\u001b[1;32m      3\u001b[0m plt\u001b[38;5;241m.\u001b[39mxlabel(\u001b[38;5;124m\"\u001b[39m\u001b[38;5;124mrank\u001b[39m\u001b[38;5;124m\"\u001b[39m)\n\u001b[1;32m      4\u001b[0m plt\u001b[38;5;241m.\u001b[39mylabel(\u001b[38;5;124m\"\u001b[39m\u001b[38;5;124mpercentage\u001b[39m\u001b[38;5;124m\"\u001b[39m)\n",
      "\u001b[0;31mNameError\u001b[0m: name 'tropics_only' is not defined"
     ]
    },
    {
     "data": {
      "image/png": "[encoded data removed]",
      "text/plain": [
       "<Figure size 640x480 with 1 Axes>"
      ]
     },
     "metadata": {},
     "output_type": "display_data"
    }
   ],
   "source": [
    "(rh / rh.sum() * 100).plot()\n",
    "plt.title(f\"{eval_fh}hr {variable}{level if variable in 'UVTQtot' else ''}\")\n",
    "plt.xlabel(\"rank\")\n",
    "plt.ylabel(\"percentage\")\n",
    "plt.ylim(0,12)"
   ]
  },
  {
   "cell_type": "code",
   "execution_count": null,
   "metadata": {},
   "outputs": [],
   "source": [
    "tropics_only = True\n",
    "da_pred = da_pred.sel(latitude=slice(-24, 24))\n",
    "da_true = da_true.sel(latitude=slice(-24, 24))\n",
    "\n",
    "rh = rank_histogram(da_true, da_pred, member_dim=\"ensemble_member_label\")\n",
    "(rh / rh.sum() * 100).plot()\n",
    "plt.title(f\"{eval_fh}hr {variable}{level if variable in 'UVTQtot' else ''}{' tropics' if tropics_only else ''}\")\n",
    "plt.xlabel(\"rank\")\n",
    "plt.ylabel(\"percentage\")\n",
    "plt.ylim(0,12)"
   ]
  },
  {
   "cell_type": "code",
   "execution_count": null,
   "metadata": {},
   "outputs": [],
   "source": []
  }
 ],
 "metadata": {
  "kernelspec": {
   "display_name": "Python [conda env:credit]",
   "language": "python",
   "name": "conda-env-credit-py"
  },
  "language_info": {
   "codemirror_mode": {
    "name": "ipython",
    "version": 3
   },
   "file_extension": ".py",
   "mimetype": "text/x-python",
   "name": "python",
   "nbconvert_exporter": "python",
   "pygments_lexer": "ipython3",
   "version": "3.11.9"
  }
 },
 "nbformat": 4,
 "nbformat_minor": 4
}
