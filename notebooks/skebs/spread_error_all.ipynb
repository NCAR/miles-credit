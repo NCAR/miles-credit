{
 "cells": [
  {
   "cell_type": "code",
   "execution_count": 1,
   "metadata": {},
   "outputs": [],
   "source": [
    "from credit.data import get_forward_data\n",
    "from glob import glob\n",
    "import os\n",
    "import xarray as xr\n",
    "import numpy as np\n",
    "import pandas as pd\n",
    "from matplotlib import pyplot as plt\n",
    "from os.path import join\n",
    "from credit.xr_sampler import XRSamplerByYear\n",
    "import yaml\n"
   ]
  },
  {
   "cell_type": "code",
   "execution_count": 2,
   "metadata": {},
   "outputs": [],
   "source": [
    "# rollout_dir = \"/glade/derecho/scratch/dkimpara/CREDIT_runs/skebs_diss_train\"\n",
    "rollout_dir = \"/glade/derecho/scratch/dkimpara/CREDIT_runs/camulator_rollout\"\n",
    "# rollout_dir = \"/glade/derecho/scratch/dkimpara/CREDIT_runs/skebs_fcnn_scaled_train\"\n",
    "# rollout_dir = \"/glade/derecho/scratch/dkimpara/CREDIT_runs/archive_skebs/skebs_conv_train\""
   ]
  },
  {
   "cell_type": "code",
   "execution_count": 3,
   "metadata": {},
   "outputs": [],
   "source": [
    "with open(\"/glade/derecho/scratch/dkimpara/CREDIT_runs/skebs_diss_train/model.yml\") as cf:\n",
    "    conf = yaml.load(cf, Loader=yaml.FullLoader)\n",
    "\n",
    "sampler = XRSamplerByYear(\"/glade/derecho/scratch/dkimpara/CREDIT_runs/skebs_diss_train/model.yml\")\n",
    "\n",
    "def get_data(rollout_files):\n",
    "    # get pred and true data\n",
    "    pred_da_list = []\n",
    "    true_da_list = []\n",
    "    for file in rollout_files:\n",
    "        ds = xr.open_dataset(file)\n",
    "        pred_da_list.append(ds)\n",
    "        \n",
    "        da_true = sampler(ds.time.values[0])\n",
    "        true_da_list.append(da_true)\n",
    "    \n",
    "    da_pred = xr.concat(pred_da_list, dim='time')\n",
    "    da_true = xr.concat(true_da_list, dim='time')\n",
    "    da_true = da_true.assign_coords(level=da_pred.level)\n",
    "    return da_true, da_pred"
   ]
  },
  {
   "cell_type": "markdown",
   "metadata": {},
   "source": [
    "## define metrics"
   ]
  },
  {
   "cell_type": "markdown",
   "metadata": {},
   "source": [
    "### spread-error\n",
    "\n"
   ]
  },
  {
   "cell_type": "code",
   "execution_count": 4,
   "metadata": {},
   "outputs": [],
   "source": [
    "def error_spread(file):\n",
    "    # rollout_files = glob(join(rollout_dir, f\"*{eval_fh:03}.nc\"))\n",
    "    obs, pred = get_data([file])\n",
    "\n",
    "    if \"ensemble_member_label\" in pred.coords:\n",
    "        std = pred.std(dim=\"ensemble_member_label\")\n",
    "        pred = pred.mean(dim=\"ensemble_member_label\")\n",
    "        error = np.sqrt((obs - pred) ** 2) # * lat_wts / sum_wts\n",
    "\n",
    "        std.to_netcdf(join(os.path.dirname(file), f\"std_{os.path.basename(file)}\"))\n",
    "        error.to_netcdf(join(os.path.dirname(file), f\"err_{os.path.basename(file)}\"))\n",
    "        \n",
    "        return error, std\n",
    "\n",
    "    error = np.sqrt((obs - pred) ** 2) # * lat_wts / sum_wts\n",
    "    error.to_netcdf(join(os.path.dirname(file), f\"err_{os.path.basename(file)}\"))\n",
    "\n",
    "    return error"
   ]
  },
  {
   "cell_type": "code",
   "execution_count": 10,
   "metadata": {},
   "outputs": [],
   "source": [
    "eval_fhs = range(6, 241, 6)\n",
    "\n",
    "rollout_files = []\n",
    "for eval_fh in eval_fhs:\n",
    "    rollout_files += glob(join(rollout_dir, f\"2012*/pred*{eval_fh:03}.nc\")) + glob(join(rollout_dir, f\"2013*/pred*{eval_fh:03}.nc\"))"
   ]
  },
  {
   "cell_type": "markdown",
   "metadata": {},
   "source": [
    "# run metrics"
   ]
  },
  {
   "cell_type": "code",
   "execution_count": 7,
   "metadata": {},
   "outputs": [],
   "source": [
    "import multiprocessing\n",
    "from functools import partial"
   ]
  },
  {
   "cell_type": "code",
   "execution_count": 11,
   "metadata": {},
   "outputs": [],
   "source": [
    "with multiprocessing.Pool(7) as p:\n",
    "    # f = partial(error_spread, mode_ensemble=mode_ensemble)\n",
    "    f = error_spread\n",
    "    result = p.map(f, rollout_files)"
   ]
  },
  {
   "cell_type": "markdown",
   "metadata": {},
   "source": [
    "# visualize rmse"
   ]
  },
  {
   "cell_type": "code",
   "execution_count": 13,
   "metadata": {},
   "outputs": [],
   "source": [
    "err_files = [join(os.path.dirname(file), f\"err_{os.path.basename(file)}\") for file in rollout_files]"
   ]
  },
  {
   "cell_type": "code",
   "execution_count": null,
   "metadata": {},
   "outputs": [],
   "source": [
    "err_files = err_files[:2"
   ]
  }
 ],
 "metadata": {
  "kernelspec": {
   "display_name": "Python [conda env:credit-dev]",
   "language": "python",
   "name": "conda-env-credit-dev-py"
  },
  "language_info": {
   "codemirror_mode": {
    "name": "ipython",
    "version": 3
   },
   "file_extension": ".py",
   "mimetype": "text/x-python",
   "name": "python",
   "nbconvert_exporter": "python",
   "pygments_lexer": "ipython3",
   "version": "3.11.9"
  }
 },
 "nbformat": 4,
 "nbformat_minor": 4
}
