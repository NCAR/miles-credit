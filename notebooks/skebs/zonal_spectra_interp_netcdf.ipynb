{
 "cells": [
  {
   "cell_type": "code",
   "execution_count": 1,
   "metadata": {},
   "outputs": [],
   "source": [
    "import xarray as xr \n",
    "import glob \n",
    "import matplotlib.pyplot as plt\n",
    "from scipy.signal import detrend\n",
    "\n",
    "import numpy as np\n",
    "import copy\n",
    "import os \n",
    "import sys \n",
    "import matplotlib.pyplot as plt \n",
    "import glob\n",
    "import pickle\n",
    "\n",
    "import cartopy.crs as ccrs\n",
    "\n",
    "from sklearn.preprocessing import QuantileTransformer\n",
    "from functools import lru_cache\n",
    "\n",
    "import math\n",
    "import copy\n",
    "from pathlib import Path\n",
    "from random import random\n",
    "from functools import partial\n",
    "from collections import namedtuple\n",
    "from multiprocessing import cpu_count\n",
    "\n",
    "from scipy.optimize import linear_sum_assignment\n",
    "from PIL import Image\n",
    "from tqdm.auto import tqdm\n",
    "\n",
    "import matplotlib.pyplot as plt\n",
    "import cartopy.crs as ccrs\n",
    "import cartopy.feature as cfeature\n",
    "import matplotlib.colors as mcolors\n",
    "\n",
    "#specialty libraries \n",
    "import pyshtools\n",
    "\n",
    "from regridding import ConservativeRegridder\n",
    "import regridding\n",
    "import graph_utils as gu\n",
    "\n",
    "import os\n",
    "import sys\n",
    "import yaml\n",
    "import numpy as np\n",
    "from datetime import datetime, timedelta\n",
    "\n",
    "# graph tools\n",
    "import matplotlib.pyplot as plt\n",
    "import matplotlib.lines as mlines\n",
    "import matplotlib.patches as patches\n",
    "\n",
    "import matplotlib.ticker as mticker\n",
    "import matplotlib.gridspec as gridspec\n",
    "from matplotlib.lines import Line2D\n",
    "\n",
    "from dask.distributed import Client, get_client\n",
    "\n",
    "from credit.data import get_forward_data\n",
    "from glob import glob\n",
    "import os\n",
    "import xarray as xr\n",
    "import numpy as np\n",
    "import pandas as pd\n",
    "from matplotlib import pyplot as plt\n",
    "from os.path import join\n",
    "\n",
    "\n",
    "\n",
    "\n",
    "from credit.xr_sampler import XRSamplerByYear\n",
    "import yaml\n"
   ]
  },
  {
   "cell_type": "markdown",
   "metadata": {},
   "source": [
    "#### debug option"
   ]
  },
  {
   "cell_type": "code",
   "execution_count": 2,
   "metadata": {},
   "outputs": [],
   "source": [
    "# rollout_files = rollout_files[:2]"
   ]
  },
  {
   "cell_type": "code",
   "execution_count": 3,
   "metadata": {},
   "outputs": [],
   "source": [
    "with open(\"/glade/derecho/scratch/dkimpara/CREDIT_runs/skebs_diss_train/model.yml\") as cf:\n",
    "    conf = yaml.load(cf, Loader=yaml.FullLoader)\n",
    "\n",
    "sampler = XRSamplerByYear(\"/glade/derecho/scratch/dkimpara/CREDIT_runs/skebs_diss_train/model.yml\")\n",
    "\n",
    "def get_data(rollout_files, variables, level):\n",
    "    def select_darray(ds_given):\n",
    "        ds_sel = ds_given[variables]\n",
    "        return ds_sel.isel(level=level)\n",
    "    \n",
    "    \n",
    "    # get pred and true data\n",
    "    pred_da_list = []\n",
    "    true_da_list = []\n",
    "    for file in rollout_files:\n",
    "        ds = xr.open_dataset(file)\n",
    "        da = select_darray(ds)\n",
    "        pred_da_list.append(da)\n",
    "        \n",
    "    \n",
    "    da_pred = xr.concat(pred_da_list, dim='time')\n",
    "    return da_pred"
   ]
  },
  {
   "cell_type": "code",
   "execution_count": 15,
   "metadata": {},
   "outputs": [],
   "source": [
    "variables, level = [\"U\", \"V\", \"T\"], 20\n",
    "\n",
    "# rollout_dir = \"/glade/derecho/scratch/dkimpara/CREDIT_runs/skebs_diss_train\"\n",
    "rollout_dir = \"/glade/derecho/scratch/dkimpara/CREDIT_runs/prescribed_skebs_feb_14/1979-01-01T00Z\""
   ]
  },
  {
   "cell_type": "markdown",
   "metadata": {},
   "source": [
    "## define metrics"
   ]
  },
  {
   "cell_type": "code",
   "execution_count": null,
   "metadata": {},
   "outputs": [],
   "source": [
    "def pressure_to_height(pressure):\n",
    "    \"\"\"\n",
    "    Convert atmospheric pressure (in hPa) to approximate height (in meters).\n",
    "\n",
    "    This function uses a simplified version of the barometric formula to estimate\n",
    "    the altitude based on atmospheric pressure under the assumption of a standard\n",
    "    atmosphere.\n",
    "\n",
    "    Parameters:\n",
    "    ----------\n",
    "    pressure : float\n",
    "        Atmospheric pressure at the desired altitude (in hPa).\n",
    "\n",
    "    Returns:\n",
    "    -------\n",
    "    float\n",
    "        Approximate altitude (in meters) corresponding to the given pressure.\n",
    "\n",
    "    Formula:\n",
    "    --------\n",
    "    h = 44330 * (1 - (P / P0) ** (1 / 5.255))\n",
    "    \n",
    "    Where:\n",
    "    - h: Altitude in meters.\n",
    "    - P: Pressure at the current altitude (in hPa).\n",
    "    - P0: Standard sea level pressure (1013.25 hPa).\n",
    "    - 44330: Constant derived from standard atmosphere assumptions.\n",
    "    - 5.255: Exponent related to the pressure-altitude relationship.\n",
    "\n",
    "    Assumptions:\n",
    "    ------------\n",
    "    - Assumes a standard atmosphere with:\n",
    "        - Sea level pressure of 1013.25 hPa.\n",
    "        - Temperature decreases linearly with altitude at 6.5 K/km.\n",
    "        - Constant composition of air.\n",
    "    - Ignores humidity and local atmospheric deviations.\n",
    "\n",
    "    Usage:\n",
    "    ------\n",
    "    - Commonly used in meteorology, aviation, and environmental sciences to \n",
    "      approximate altitude from pressure sensor readings.\n",
    "\n",
    "    Example:\n",
    "    --------\n",
    "    >>> pressure_to_height(900)\n",
    "    1101.843525337259  # Approximate altitude in meters at 900 hPa\n",
    "    \"\"\"\n",
    "    return 44330 * (1 - (pressure / 1013.25) ** (1 / 5.255))\n",
    "\n",
    "\n",
    "def zonal_energy_spectrum_sph(ds_input: xr.Dataset, \n",
    "                              varname: str,\n",
    "                              grid_type: str ='DH',\n",
    "                              rescale=False)-> xr.DataArray:\n",
    "    '''\n",
    "    Computes the Zonal Energy Spectrum of a variable in an xarray.Dataset \n",
    "    using spherical harmonic transform. The output is rescaled by the \n",
    "    mean circumference per longitude grid.\n",
    "    \n",
    "    Parameters:\n",
    "    - ds_input: xarray.Dataset containing the data.\n",
    "    - varname: Name of the variable to compute the spectrum for.\n",
    "    - grid_type: 'GLQ' or 'DH'\n",
    "    - rescale: produce m * unit result based on circumference\n",
    "\n",
    "    Returns:\n",
    "    - spectrum: xarray.DataArray containing the zonal energy spectrum.\n",
    "    '''\n",
    "    RAD_EARTH = 6371000\n",
    "    \n",
    "    data = ds_input[varname]\n",
    "\n",
    "    # check 'latitude' and 'longitude' cooridnate names\n",
    "    if 'latitude' not in data.dims or 'longitude' not in data.dims:\n",
    "        raise ValueError(\"Data must have 'latitude' and 'longitude' dimensions\")\n",
    "        \n",
    "    latitudes = data['latitude'].values\n",
    "    longitudes = data['longitude'].values\n",
    "\n",
    "    # check latitudes for [90, -90] descending order\n",
    "    # if not flip data and latitude\n",
    "    if latitudes[0] < latitudes[-1]:\n",
    "        data = data.isel(latitude=slice(None, None, -1))\n",
    "        latitudes = data['latitude'].values\n",
    "        \n",
    "    # check longitudes for [0, 360] order\n",
    "    # if not re-organize\n",
    "    if np.any(longitudes < 0):\n",
    "        longitudes = (longitudes + 360) % 360\n",
    "        sorted_indices = np.argsort(longitudes)\n",
    "        data = data.isel(longitude=sorted_indices)\n",
    "        longitudes = data['longitude'].values\n",
    "\n",
    "    # number of grids\n",
    "    nlat = len(latitudes)\n",
    "    nlon = len(longitudes)\n",
    "    \n",
    "    # max wavenumber is half of the latitude grids -1\n",
    "    max_wavenum = (nlat - 1) // 2  # int divide\n",
    "    \n",
    "    # allocate zonal wavenumbers ranges\n",
    "    zonal_wavenumbers = np.arange(max_wavenum + 1)\n",
    "\n",
    "    def compute_power_m(data_array_2d):\n",
    "        '''\n",
    "        Computes the power spectrum for a 2D data array using spherical harmonics.\n",
    "\n",
    "        Parameters:\n",
    "        - data_array_2d: 2D numpy array of shape (nlat, nlon)\n",
    "\n",
    "        Returns:\n",
    "        - power_m: 1D numpy array of power corresponding to each zonal wavenumber m\n",
    "        '''\n",
    "        # initialize SHGrid\n",
    "        grid = pyshtools.SHGrid.from_array(data_array_2d, grid=grid_type)\n",
    "        \n",
    "        # expand the grid to spherical harmonic coefs\n",
    "        coeffs = grid.expand(normalization='ortho', lmax_calc=max_wavenum)\n",
    "\n",
    "        # power per degree per order. shape=(lmax+1, lmax+1)\n",
    "        coeffs_squared = coeffs.coeffs[0]**2 + coeffs.coeffs[1]**2\n",
    "        \n",
    "        # allocate power array for each zonal wavenumber m\n",
    "        power_m = np.zeros(max_wavenum + 1)\n",
    "        \n",
    "        # sum over degrees l > m for each order m to get the total power\n",
    "        # -l < m < l\n",
    "        for l in range(max_wavenum + 1):\n",
    "            power_m[l] = np.sum(coeffs_squared[l:, l])\n",
    "        \n",
    "        return power_m\n",
    "\n",
    "    # xr.apply_ufunc scope\n",
    "    spectrum = xr.apply_ufunc(\n",
    "        compute_power_m,\n",
    "        data,\n",
    "        input_core_dims=[['latitude', 'longitude']],\n",
    "        output_core_dims=[['zonal_wavenumber']],\n",
    "        vectorize=True,\n",
    "        dask='parallelized',  # <-- dask parallelization\n",
    "        output_dtypes=[float],\n",
    "    )\n",
    "\n",
    "    # assign new coordinate 'zonal_wavenumber'\n",
    "    spectrum = spectrum.assign_coords(zonal_wavenumber=zonal_wavenumbers)\n",
    "\n",
    "    if rescale:\n",
    "        # re-scale power spectrum based on the mean circumference per longitude\n",
    "        cos_latitudes = np.cos(np.deg2rad(latitudes))\n",
    "        normalization_factor = (RAD_EARTH * np.sum(cos_latitudes)) / nlon\n",
    "        \n",
    "        spectrum = spectrum * normalization_factor\n",
    "    \n",
    "    return spectrum"
   ]
  },
  {
   "cell_type": "code",
   "execution_count": null,
   "metadata": {},
   "outputs": [],
   "source": []
  },
  {
   "cell_type": "code",
   "execution_count": null,
   "metadata": {},
   "outputs": [],
   "source": [
    "%%time\n",
    "DSera5 = xr.open_dataset('/glade/derecho/scratch/dkimpara/CREDIT_runs/spat_grid.nc')\n",
    "\n",
    "conc = []\n",
    "verif_results = []\n",
    "\n",
    "for yryr in range(2012,2013):\n",
    "    \n",
    "    path_verif = f'./zes_{yryr}'\n",
    "\n",
    "    print(f'doing {yryr}')\n",
    "    DSdo_1 = xr.open_zarr(f'/glade/campaign/cisl/aiml/wchapman/MLWPS/STAGING/f.e21.CREDIT_climate_{yryr}_ERA5scaled_F32_Qtot.zarr')\n",
    "    # conc.append(DSdo_1)\n",
    "    \n",
    "\n",
    "    DScesm = DSdo_1[['T','U','V']].isel(level=20).load()\n",
    "    DScesm['theta'] = DScesm['T'] * (1000/524.7)**(287.0/1004)\n",
    "    \n",
    "    source_grid = regridding.Grid.from_degrees(DScesm.longitude.values,DScesm.latitude.values)\n",
    "    target_grid = regridding.Grid.from_degrees(DSera5.longitude.values,DSera5.latitude[::-1].values)\n",
    "    REg = regridding.ConservativeRegridder(source_grid,target_grid)\n",
    "    \n",
    "    DA = REg.regrid_dataset(DScesm)\n",
    "    DA = DA.assign_coords(latitude=DSera5.latitude[::-1].values)\n",
    "    DA = DA.assign_coords(longitude=DSera5.longitude.values)\n",
    "    DA = DA.transpose(\"time\", \"latitude\", \"longitude\")\n",
    "    zes_temp = []\n",
    "    for var in ['U', 'V', 'theta']:\n",
    "        zes = zonal_energy_spectrum_sph(DA, var, grid_type='GLQ')\n",
    "        zes_temp.append(zes)\n",
    "        \n",
    "    verif_results.append(xr.merge(zes_temp))\n",
    "\n",
    "ds_verif = xr.concat(verif_results, dim='time')\n",
    "ds_verif['KE'] = 0.5*(ds_verif['V']+ds_verif['U'])\n",
    "ds_verif_means = ds_verif.mean('time')\n",
    "\n",
    "print('CAMulator') \n",
    "DSdt = xr.open_dataset('/glade/derecho/scratch/wchapman/CREDIT/cesm_wxformer_00191_nb/model_00240/1979-01-01T00Z/datetimes_in_files.nc')\n",
    "client = Client()\n",
    "print(f\"Dask dashboard available at: {client.dashboard_link}\")\n",
    "verif_results_em = []\n",
    "\n",
    "rollout_dir = \"/glade/derecho/scratch/dkimpara/CREDIT_runs/archive_skebs/skebs_conv_train\"\n",
    "rollout_files = glob(join(rollout_dir, \"201*Z/*.nc\"))\n",
    "\n",
    "\n",
    "DScesm = get_data(rollout_files, [\"U\", \"V\", \"T\"], 20)\n",
    "\n",
    "DScesm['theta'] = DScesm['T'] * (1000/524.7)**(287.0/1004)\n",
    "\n",
    "source_grid = regridding.Grid.from_degrees(DScesm.longitude.values,DScesm.latitude.values)\n",
    "target_grid = regridding.Grid.from_degrees(DSera5.longitude.values,DSera5.latitude[::-1].values)\n",
    "REg = regridding.ConservativeRegridder(source_grid,target_grid)\n",
    "\n",
    "DA = REg.regrid_dataset(DScesm)\n",
    "DA = DA.assign_coords(latitude=DSera5.latitude[::-1].values)\n",
    "DA = DA.assign_coords(longitude=DSera5.longitude.values)\n",
    "DA = DA.transpose(\"time\", \"latitude\", \"longitude\")\n",
    "\n",
    "zes_temp_em = []\n",
    "for var in ['U', 'V', 'theta']:\n",
    "    zes = zonal_energy_spectrum_sph(DA, var, grid_type='GLQ')\n",
    "    zes_temp_em.append(zes)\n",
    "    \n",
    "verif_results_em.append(xr.merge(zes_temp_em))\n",
    "    \n",
    "\n",
    "ds_verif_em = xr.concat(verif_results_em, dim='time')\n",
    "ds_verif_em['KE'] = 0.5*(ds_verif_em['V']+ds_verif_em['U'])\n",
    "ds_verif_means_em = ds_verif_em.mean('time')\n",
    "\n",
    "# Get the current client if one exists and close it\n",
    "try:\n",
    "    client = get_client()\n",
    "    client.close()\n",
    "except ValueError:\n",
    "    print(\"No active client found.\")"
   ]
  },
  {
   "cell_type": "markdown",
   "metadata": {},
   "source": [
    "# run metrics"
   ]
  },
  {
   "cell_type": "code",
   "execution_count": 17,
   "metadata": {},
   "outputs": [],
   "source": [
    "import multiprocessing\n",
    "from functools import partial"
   ]
  },
  {
   "cell_type": "code",
   "execution_count": 25,
   "metadata": {},
   "outputs": [],
   "source": [
    "f = partial(spread_error, variable, level)\n",
    "with multiprocessing.Pool(8) as p:\n",
    "    \n",
    "    result = p.map(f, range(6, 73, 6))"
   ]
  },
  {
   "cell_type": "code",
   "execution_count": 19,
   "metadata": {},
   "outputs": [
    {
     "data": {
      "text/plain": [
       "12"
      ]
     },
     "execution_count": 19,
     "metadata": {},
     "output_type": "execute_result"
    }
   ],
   "source": [
    "len(result)"
   ]
  },
  {
   "cell_type": "code",
   "execution_count": 20,
   "metadata": {},
   "outputs": [],
   "source": [
    "# n/s extra tropics and tropics"
   ]
  },
  {
   "cell_type": "code",
   "execution_count": 26,
   "metadata": {},
   "outputs": [],
   "source": [
    "n_std, n_error = [], []\n",
    "t_std, t_error = [], []\n",
    "s_std, s_error = [], []\n",
    "\n",
    "for res in result:\n",
    "    std, error = res\n",
    "    # std, error = std.mean(dim=\"longitude\"), error.mean(dim=\"longitude\")\n",
    "    # n extratropics\n",
    "    n_std.append(std.sel(latitude=slice(24,91)).mean().values)\n",
    "    n_error.append(error.sel(latitude=slice(24,91)).mean().values)\n",
    "    # tropics\n",
    "    t_std.append(std.sel(latitude=slice(-24,24)).mean().values)\n",
    "    t_error.append(error.sel(latitude=slice(-24,24)).mean().values)\n",
    "    # s extra tropics\n",
    "    s_std.append(std.sel(latitude=slice(-91,-24)).mean().values)\n",
    "    s_error.append(error.sel(latitude=slice(-91,-24)).mean().values)\n",
    "    "
   ]
  },
  {
   "cell_type": "code",
   "execution_count": null,
   "metadata": {},
   "outputs": [],
   "source": []
  },
  {
   "cell_type": "code",
   "execution_count": 27,
   "metadata": {},
   "outputs": [],
   "source": [
    "forecast_day = 6 * (np.arange(len(result)) + 1) / 24\n",
    "def plot(std, error, label=None):\n",
    "    plt.plot(forecast_day, std, label=\"std\", c='tab:orange')\n",
    "    plt.plot(forecast_day, error, label=\"rmse\", c='b')\n",
    "    plt.xlabel(\"Day\")\n",
    "    plt.title(f\"{variable}{level if variable in 'UVTQtot' else ''} {label} Spread-Error\")\n",
    "    plt.legend()\n",
    "    plt.grid(True)\n",
    "    plt.show()"
   ]
  },
  {
   "cell_type": "code",
   "execution_count": 28,
   "metadata": {},
   "outputs": [
    {
     "data": {
      "image/png": "[encoded data removed]",
      "text/plain": [
       "<Figure size 640x480 with 1 Axes>"
      ]
     },
     "metadata": {},
     "output_type": "display_data"
    }
   ],
   "source": [
    "plot(n_std, n_error, \"N extratropics\")"
   ]
  },
  {
   "cell_type": "code",
   "execution_count": 24,
   "metadata": {},
   "outputs": [
    {
     "data": {
      "image/png": "[encoded data removed]",
      "text/plain": [
       "<Figure size 640x480 with 1 Axes>"
      ]
     },
     "metadata": {},
     "output_type": "display_data"
    }
   ],
   "source": [
    "plot(t_std, t_error, \"Tropics\")"
   ]
  },
  {
   "cell_type": "code",
   "execution_count": 14,
   "metadata": {},
   "outputs": [
    {
     "data": {
      "image/png": "[encoded data removed]",
      "text/plain": [
       "<Figure size 640x480 with 1 Axes>"
      ]
     },
     "metadata": {},
     "output_type": "display_data"
    }
   ],
   "source": [
    "plot(s_std, s_error, \"S extratropics\")"
   ]
  },
  {
   "cell_type": "code",
   "execution_count": null,
   "metadata": {},
   "outputs": [],
   "source": []
  },
  {
   "cell_type": "code",
   "execution_count": null,
   "metadata": {},
   "outputs": [],
   "source": []
  }
 ],
 "metadata": {
  "kernelspec": {
   "display_name": "Python 3 (ipykernel)",
   "language": "python",
   "name": "python3"
  },
  "language_info": {
   "codemirror_mode": {
    "name": "ipython",
    "version": 3
   },
   "file_extension": ".py",
   "mimetype": "text/x-python",
   "name": "python",
   "nbconvert_exporter": "python",
   "pygments_lexer": "ipython3",
   "version": "3.10.13"
  }
 },
 "nbformat": 4,
 "nbformat_minor": 4
}
