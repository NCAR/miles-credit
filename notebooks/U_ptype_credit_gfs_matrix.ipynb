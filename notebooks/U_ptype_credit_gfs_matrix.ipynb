{
 "cells": [
  {
   "cell_type": "code",
   "execution_count": 1,
   "id": "b5fde6ce-1336-4bcc-adc2-7f35f155ffa1",
   "metadata": {},
   "outputs": [],
   "source": [
    "import xarray as xr\n",
    "import matplotlib.pyplot as plt\n",
    "import numpy as np\n",
    "from collections import defaultdict\n",
    "from matplotlib import pyplot as plt\n",
    "from matplotlib import colors as mcolors\n",
    "from matplotlib import patches as mpatches\n",
    "import matplotlib.cm as cm\n",
    "from sklearn.metrics import confusion_matrix\n",
    "\n",
    "import cartopy.crs as ccrs\n",
    "import cartopy.feature as cfeature\n",
    "from cartopy.io.shapereader import natural_earth\n",
    "import cfgrib\n",
    "import json\n",
    "\n",
    "\n",
    "import seaborn as sns\n",
    "from sklearn.metrics import confusion_matrix"
   ]
  },
  {
   "cell_type": "code",
   "execution_count": 2,
   "id": "06467683-d93d-48b8-884b-b0bec0495302",
   "metadata": {},
   "outputs": [],
   "source": [
    "def mask_cptye_with_gfs(path_2_credit, path_2_gfs):\n",
    "    '''\n",
    "    \n",
    "    Function to mask credit ptype predictions  with gfs\n",
    "    \n",
    "    '''\n",
    "\n",
    "    # load credit\n",
    "    credit = xr.open_dataset(path_2_credit)\n",
    "    \n",
    "    gfs = xr.open_dataset(\n",
    "        path_2_gfs,\n",
    "        engine='cfgrib',\n",
    "        backend_kwargs={'filter_by_keys': {'stepType': 'instant', 'typeOfLevel': 'surface'}},\n",
    "        decode_timedelta=False, \n",
    "    )\n",
    "    # create a no_precip class for gfs \n",
    "    gfs['no_precip'] = (\n",
    "            (gfs['crain'] == 0) & \n",
    "            (gfs['csnow'] == 0) & \n",
    "            (gfs['cfrzr'] == 0) & \n",
    "            (gfs['cicep'] == 0)\n",
    "        )\n",
    "    # interpolate to match credit grid\n",
    "    no_precip_numeric = gfs['no_precip'].astype(int)\n",
    "    gfs_regridded = no_precip_numeric.interp(\n",
    "        latitude=credit.isel(time=0).variables['latitude'].copy(), \n",
    "        longitude=credit.isel(time=0).variables['longitude'].copy(), \n",
    "        method='nearest'\n",
    "    )\n",
    "    gfs_regridded = gfs_regridded.astype(bool)\n",
    "\n",
    " \n",
    "    credit_masked = credit.where(~gfs_regridded)\n",
    "    return credit_masked"
   ]
  },
  {
   "cell_type": "code",
   "execution_count": 3,
   "id": "f10fa3b2-c49d-492d-9c22-845009ce059b",
   "metadata": {},
   "outputs": [],
   "source": [
    "\n",
    "# 1 DAY LEAD TIME\n",
    "# path1 = '/glade/u/home/sakor/work/CREDIT/wx_former_6h/2021-02-13T00Z/pred_2021-02-13T00Z_018.nc'\n",
    "# path2 = '/glade/u/home/sakor/work/CREDIT/fuxi_6h/2021-02-13T00Z/pred_2021-02-13T00Z_018.nc'\n",
    "# path3 = '/glade/u/home/sakor/work/CREDIT/wx_former_1h/2021-02-13T00Z/pred_2021-02-13T00Z_018.nc'\n",
    "# path4 = '/glade/work/sakor/gfs/gfs.0p25.2021021318.f000.grib2'\n",
    "\n",
    "# 2 days lead time\n",
    "path1 = '/glade/u/home/sakor/work/CREDIT/wx_former_6h/2021-02-11T00Z/pred_2021-02-11T00Z_048.nc'\n",
    "path2 = '/glade/u/home/sakor/work/CREDIT/fuxi_6h/2021-02-11T00Z/pred_2021-02-11T00Z_048.nc'\n",
    "path3 = '/glade/u/home/sakor/work/CREDIT/wx_former_1h/2021-02-11T00Z/pred_2021-02-11T00Z_048.nc'\n",
    "path4 = '/glade/work/sakor/gfs/gfs.0p25.2021021318.f000.grib2'"
   ]
  },
  {
   "cell_type": "code",
   "execution_count": 4,
   "id": "b29c4cc7-7ea3-491a-9045-520a5a72269a",
   "metadata": {},
   "outputs": [],
   "source": [
    "wx_6h= mask_cptye_with_gfs(path1,path4)\n",
    "fuxi_6h =  mask_cptye_with_gfs(path2,path4)\n",
    "wx_1h =mask_cptye_with_gfs(path3,path4)"
   ]
  },
  {
   "cell_type": "code",
   "execution_count": 5,
   "id": "59501c39-cef7-4957-82be-2a58f95d0560",
   "metadata": {},
   "outputs": [],
   "source": [
    "def regrid_to_credit(path_2_credit, path_2_gfs):\n",
    "    '''\n",
    "    \n",
    "    Function to mask credit ptype predictions  with gfs\n",
    "    \n",
    "    '''\n",
    "\n",
    "    # load credit\n",
    "    credit = xr.open_dataset(path_2_credit)\n",
    "    \n",
    "    gfs = xr.open_dataset(\n",
    "        path_2_gfs,\n",
    "        engine='cfgrib',\n",
    "        backend_kwargs={'filter_by_keys': {'stepType': 'instant', 'typeOfLevel': 'surface'}},\n",
    "        decode_timedelta=False, \n",
    "    )\n",
    "   \n",
    "    gfs_regridded = gfs.interp(\n",
    "        latitude=credit.isel(time=0).variables['latitude'].copy(), \n",
    "        longitude=credit.isel(time=0).variables['longitude'].copy(), \n",
    "        method='nearest'\n",
    "    ) \n",
    "    \n",
    "    return gfs_regridded\n",
    "\n"
   ]
  },
  {
   "cell_type": "code",
   "execution_count": 6,
   "id": "f21aa549-94ad-4e05-9069-8fd971855bae",
   "metadata": {},
   "outputs": [],
   "source": [
    "gfs_regridded = regrid_to_credit(path3,path4)"
   ]
  },
  {
   "cell_type": "code",
   "execution_count": 7,
   "id": "a1603fee-00e1-4bae-87f2-5f2165eeb694",
   "metadata": {},
   "outputs": [],
   "source": [
    "def subset_by_extent(ds, extent):\n",
    "    \"\"\"\n",
    "    Subset an xarray Dataset using geographic coordinates.\n",
    "    \n",
    "    Parameters:\n",
    "        ds: xarray Dataset\n",
    "        extent: [lon_min, lon_max, lat_min, lat_max]\n",
    "    \n",
    "    Returns:\n",
    "        Subsetted xarray Dataset\n",
    "    \"\"\"\n",
    "    lon_min, lon_max, lat_min, lat_max = extent\n",
    "    \n",
    "    # Handle longitude wrapping if needed (for 0-360 vs -180-180 data)\n",
    "    if (ds.longitude.max() > 180) and (lon_min < 0):\n",
    "        lon_min += 360\n",
    "        lon_max += 360\n",
    "    \n",
    "    # Subset the data\n",
    "    subset = ds.sel(\n",
    "        longitude=slice(lon_min, lon_max),\n",
    "        latitude=slice(lat_max, lat_min)  # Note: reverse order for latitude\n",
    "    )\n",
    "    \n",
    "    return subset.assign_coords(longitude=((subset.longitude + 180) % 360) - 180)"
   ]
  },
  {
   "cell_type": "code",
   "execution_count": 8,
   "id": "e8bfbeda-f72d-41ae-81fc-3ee07d9b2a37",
   "metadata": {},
   "outputs": [],
   "source": [
    "extent = [-120, -75, 26, 50]\n",
    "\n",
    "gfs_regridded = subset_by_extent(gfs_regridded, extent)"
   ]
  },
  {
   "cell_type": "code",
   "execution_count": null,
   "id": "bbca01d4-5629-4d5a-8438-772dcb444558",
   "metadata": {},
   "outputs": [],
   "source": []
  },
  {
   "cell_type": "code",
   "execution_count": null,
   "id": "50ceaf53-460e-42f9-a376-9c61047cb932",
   "metadata": {},
   "outputs": [],
   "source": []
  },
  {
   "cell_type": "code",
   "execution_count": 9,
   "id": "c2271659-3260-48df-83a5-185893025c33",
   "metadata": {},
   "outputs": [],
   "source": [
    "def classes(gfs_regridded):\n",
    "    # Initialize with NaN (no precipitation)\n",
    "    precip_type = xr.full_like(gfs_regridded['crain'], np.nan, dtype=np.float32)\n",
    "    \n",
    "    # Set values based on precipitation flags (order matters for priority!)\n",
    "    precip_type = xr.where(gfs_regridded['crain'] == 1, 1, precip_type)    # 1 = rain\n",
    "    precip_type = xr.where(gfs_regridded['csnow'] == 1, 2, precip_type)    # 2 = snow\n",
    "    precip_type = xr.where(gfs_regridded['cfrzr'] == 1, 3, precip_type)   # 3 = freezing rain\n",
    "    precip_type = xr.where(gfs_regridded['cicep'] == 1, 4, precip_type)   # 4 = ice pellets\n",
    "    \n",
    "    # Create the Dataset with proper attributes\n",
    "    gfs_labels = xr.Dataset()\n",
    "    gfs_labels['precip_type'] = precip_type.assign_attrs({\n",
    "        'long_name': 'Precipitation type',\n",
    "        'units': 'category',\n",
    "        'flag_values': [1, 2, 3, 4],\n",
    "        'flag_meanings': 'rain snow freezing_rain ice_pellets',\n",
    "        'description': 'NaN = no precipitation'\n",
    "    })\n",
    "    \n",
    "    # Optionally keep the original flags\n",
    "    for var in ['crain', 'csnow', 'cfrzr', 'cicep']:\n",
    "        gfs_labels[f'{var}_flag'] = gfs_regridded[var] == 1\n",
    "    return gfs_labels['precip_type'].values.flatten()\n",
    "\n",
    "\n",
    "def classes2(gfs_regridded):\n",
    "    # Initialize with NaN (no precipitation)\n",
    "    precip_type = xr.full_like(gfs_regridded['ML_crain'], np.nan, dtype=np.float32)\n",
    "    \n",
    "    # Set values based on precipitation flags (order matters for priority!)\n",
    "    precip_type = xr.where(gfs_regridded['ML_crain'] == 1, 1, precip_type)    # 1 = rain\n",
    "    precip_type = xr.where(gfs_regridded['ML_csnow'] == 1, 2, precip_type)    # 2 = snow\n",
    "    precip_type = xr.where(gfs_regridded['ML_cfrzr'] == 1, 3, precip_type)   # 3 = freezing rain\n",
    "    precip_type = xr.where(gfs_regridded['ML_cicep'] == 1, 4, precip_type)   # 4 = ice pellets\n",
    "    \n",
    "    # Create the Dataset with proper attributes\n",
    "    gfs_labels = xr.Dataset()\n",
    "    gfs_labels['precip_type'] = precip_type.assign_attrs({\n",
    "        'long_name': 'Precipitation type',\n",
    "        'units': 'category',\n",
    "        'flag_values': [1, 2, 3, 4],\n",
    "        'flag_meanings': 'rain snow freezing_rain ice_pellets',\n",
    "        'description': 'NaN = no precipitation'\n",
    "    })\n",
    "    \n",
    "    # Optionally keep the original flags\n",
    "    for var in ['ML_crain', 'ML_csnow', 'ML_cfrzr', 'ML_cicep']:\n",
    "        gfs_labels[f'{var}_flag'] = gfs_regridded[var] == 1\n",
    "    return gfs_labels['precip_type'].values.flatten()"
   ]
  },
  {
   "cell_type": "code",
   "execution_count": 10,
   "id": "121415ef-bd70-43c9-bcb4-25a06e9e4750",
   "metadata": {},
   "outputs": [],
   "source": [
    "gfs = classes(gfs_regridded)"
   ]
  },
  {
   "cell_type": "code",
   "execution_count": 11,
   "id": "364abbbe-37f6-4f00-95ca-8b4bf26bc075",
   "metadata": {},
   "outputs": [],
   "source": [
    "fuxi_6h = subset_by_extent(fuxi_6h,extent)\n",
    "wx_6h = subset_by_extent(wx_6h,extent)\n",
    "wx_1h = subset_by_extent(wx_1h,extent)"
   ]
  },
  {
   "cell_type": "code",
   "execution_count": 12,
   "id": "72a06ce3-7c3d-4158-a7fb-8ab4adf19686",
   "metadata": {},
   "outputs": [],
   "source": [
    "fuxi_6h = classes2(fuxi_6h)\n",
    "wx_6h =  classes2(wx_6h)\n",
    "wx_1h =  classes2(wx_1h)"
   ]
  },
  {
   "cell_type": "code",
   "execution_count": 13,
   "id": "715f3b7f-6d2b-47d6-9498-572a469ca94a",
   "metadata": {},
   "outputs": [],
   "source": [
    "gfs = gfs[~np.isnan(gfs)]\n",
    "wx_6h = wx_6h[~np.isnan(wx_6h)]\n",
    "wx_1h = wx_1h[~np.isnan(wx_1h)]\n",
    "fuxi_6h = fuxi_6h[~np.isnan(fuxi_6h)]"
   ]
  },
  {
   "cell_type": "code",
   "execution_count": 14,
   "id": "4ba1315d-8fed-4cdd-a6d3-99f86659b3df",
   "metadata": {},
   "outputs": [
    {
     "data": {
      "text/plain": [
       "(4219, 4219, 4219)"
      ]
     },
     "execution_count": 14,
     "metadata": {},
     "output_type": "execute_result"
    }
   ],
   "source": [
    "len(wx_1h), len(wx_6h), len(fuxi_6h)"
   ]
  },
  {
   "cell_type": "markdown",
   "id": "3c3a471d-ce49-4851-99ca-2f5e7d0a69d1",
   "metadata": {},
   "source": [
    "## One day analysis"
   ]
  },
  {
   "cell_type": "code",
   "execution_count": 15,
   "id": "b8129e4b-2a74-4ed2-ade8-27a3d434fe6c",
   "metadata": {},
   "outputs": [],
   "source": [
    "classes = [1, 2, 3, 4]\n",
    "class_names = ['Ra', 'Sn', 'FrzRr', 'IceP']"
   ]
  },
  {
   "cell_type": "code",
   "execution_count": 16,
   "id": "2e2da78c-f4ce-4010-80e7-567532449666",
   "metadata": {},
   "outputs": [],
   "source": [
    "cm_wx_6h = confusion_matrix(gfs, wx_6h, labels=classes, normalize='true')\n",
    "cm_wx_1h = confusion_matrix(gfs, wx_1h, labels=classes, normalize='true')\n",
    "cm_fuxi_6h = confusion_matrix(gfs, fuxi_6h, labels=classes, normalize='true')"
   ]
  },
  {
   "cell_type": "code",
   "execution_count": 17,
   "id": "4fa674aa-bdc0-4ab4-a3ee-c49a85ff9054",
   "metadata": {},
   "outputs": [
    {
     "data": {
      "text/plain": [
       "0.9923518164435946"
      ]
     },
     "execution_count": 17,
     "metadata": {},
     "output_type": "execute_result"
    }
   ],
   "source": [
    "np.sum(fuxi_6h ==2)/np.sum(gfs ==2)"
   ]
  },
  {
   "cell_type": "code",
   "execution_count": null,
   "id": "04faeb61-7034-4b71-adf8-a72a481875ba",
   "metadata": {},
   "outputs": [],
   "source": []
  },
  {
   "cell_type": "code",
   "execution_count": 18,
   "id": "8bcd41ac-643c-4ef8-b5a4-3de842700e99",
   "metadata": {},
   "outputs": [
    {
     "data": {
      "image/png": "[encoded data removed]",
      "text/plain": [
       "<Figure size 1600x500 with 6 Axes>"
      ]
     },
     "metadata": {},
     "output_type": "display_data"
    }
   ],
   "source": [
    "fig, (ax1, ax2, ax3) = plt.subplots(1, 3, figsize=(16, 5))\n",
    "\n",
    "\n",
    "sns.heatmap(cm_wx_6h, annot=True, cmap='Blues',\n",
    "            xticklabels=class_names, yticklabels=class_names, ax=ax1)\n",
    "ax1.set_xlabel('wx_6h')\n",
    "ax1.set_ylabel('gfs')\n",
    "\n",
    "\n",
    "sns.heatmap(cm_wx_1h, annot=True, cmap='Blues',\n",
    "            xticklabels=class_names, yticklabels=class_names, ax=ax2)\n",
    "\n",
    "ax2.set_xlabel('wx_1h')\n",
    "ax2.set_ylabel('gfs')\n",
    "\n",
    "sns.heatmap(cm_fuxi_6h, annot=True, cmap='Blues',\n",
    "            xticklabels=class_names, yticklabels=class_names, ax=ax3)\n",
    "ax3.set_xlabel('fuxi_6h')\n",
    "ax3.set_ylabel('gfs')\n",
    "\n",
    "plt.tight_layout()\n",
    "plt.savefig('a.pdf')\n",
    "plt.show()\n"
   ]
  },
  {
   "cell_type": "code",
   "execution_count": null,
   "id": "af862611-dfb0-4823-b44d-a87f6e600cf5",
   "metadata": {},
   "outputs": [],
   "source": []
  },
  {
   "cell_type": "markdown",
   "id": "db08469a-146c-49ee-a733-d98ba92d4b15",
   "metadata": {},
   "source": [
    "### Entire storm duration"
   ]
  },
  {
   "cell_type": "code",
   "execution_count": 19,
   "id": "744256c7-cd97-40ed-9cf9-e0715cd13db1",
   "metadata": {},
   "outputs": [],
   "source": [
    "wxformer_6h_dic = {}\n",
    "wxformer_6h_dic['t1'] = '/glade/u/home/sakor/work/CREDIT/wx_former_6h/2021-02-13T00Z/pred_2021-02-13T00Z_012.nc'\n",
    "wxformer_6h_dic['t2'] = '/glade/u/home/sakor/work/CREDIT/wx_former_6h/2021-02-13T00Z/pred_2021-02-13T00Z_018.nc'\n",
    "wxformer_6h_dic['t3'] = '/glade/u/home/sakor/work/CREDIT/wx_former_6h/2021-02-13T00Z/pred_2021-02-13T00Z_024.nc'\n",
    "wxformer_6h_dic['t4'] = '/glade/u/home/sakor/work/CREDIT/wx_former_6h/2021-02-13T00Z/pred_2021-02-13T00Z_030.nc'\n",
    "wxformer_6h_dic['t5'] = '/glade/u/home/sakor/work/CREDIT/wx_former_6h/2021-02-13T00Z/pred_2021-02-13T00Z_036.nc'\n",
    "wxformer_6h_dic['t6'] = '/glade/u/home/sakor/work/CREDIT/wx_former_6h/2021-02-13T00Z/pred_2021-02-13T00Z_042.nc'\n",
    "wxformer_6h_dic['t7'] = '/glade/u/home/sakor/work/CREDIT/wx_former_6h/2021-02-13T00Z/ pred_2021-02-13T00Z_048.nc'\n"
   ]
  },
  {
   "cell_type": "code",
   "execution_count": 20,
   "id": "012a620c-f632-4a84-bff4-1e77f2fa9f08",
   "metadata": {},
   "outputs": [],
   "source": [
    "wxformer_1h_dic = {}\n",
    "wxformer_1h_dic['t1'] = '/glade/u/home/sakor/work/CREDIT/wx_former_1h/2021-02-13T00Z/pred_2021-02-13T00Z_012.nc'\n",
    "wxformer_1h_dic['t2'] = '/glade/u/home/sakor/work/CREDIT/wx_former_1h/2021-02-13T00Z/pred_2021-02-13T00Z_018.nc'\n",
    "wxformer_1h_dic['t3'] = '/glade/u/home/sakor/work/CREDIT/wx_former_1h/2021-02-13T00Z/pred_2021-02-13T00Z_024.nc'\n",
    "wxformer_1h_dic['t4'] = '/glade/u/home/sakor/work/CREDIT/wx_former_1h/2021-02-13T00Z/pred_2021-02-13T00Z_030.nc'\n",
    "wxformer_1h_dic['t5'] = '/glade/u/home/sakor/work/CREDIT/wx_former_1h/2021-02-13T00Z/pred_2021-02-13T00Z_036.nc'\n",
    "wxformer_1h_dic['t6'] = '/glade/u/home/sakor/work/CREDIT/wx_former_1h/2021-02-13T00Z/pred_2021-02-13T00Z_042.nc'\n",
    "wxformer_1h_dic['t7'] = '/glade/u/home/sakor/work/CREDIT/wx_former_1h/2021-02-13T00Z/ pred_2021-02-13T00Z_048.nc'\n"
   ]
  },
  {
   "cell_type": "code",
   "execution_count": 21,
   "id": "756201f1-2c57-4be2-841d-ae41e61634f1",
   "metadata": {},
   "outputs": [],
   "source": [
    "gfs_dic = {}"
   ]
  },
  {
   "cell_type": "code",
   "execution_count": 22,
   "id": "f43ffbc3-c227-43de-9158-64bfe25be608",
   "metadata": {},
   "outputs": [],
   "source": [
    "# fuxi_6h_dic = {}\n",
    "# fuxi_6h_dic['t1'] = '/glade/u/home/sakor/work/CREDIT/wx_former_6h/2021-02-13T00Z/pred_2021-02-13T00Z_012.nc'\n",
    "# fuxi_6h_dic['t2'] = '/glade/u/home/sakor/work/CREDIT/wx_former_6h/2021-02-13T00Z/pred_2021-02-13T00Z_018.nc'\n",
    "# fuxi_6h_dic['t3'] = '/glade/u/home/sakor/work/CREDIT/wx_former_6h/2021-02-13T00Z/pred_2021-02-13T00Z_024.nc'\n",
    "# fuxi_6h_dic['t4'] = '/glade/u/home/sakor/work/CREDIT/wx_former_6h/2021-02-13T00Z/pred_2021-02-13T00Z_030.nc'\n",
    "# fuxi_6h_dic['t5'] = '/glade/u/home/sakor/work/CREDIT/wx_former_6h/2021-02-13T00Z/pred_2021-02-13T00Z_036.nc'\n",
    "# fuxi_6h_dic['t6'] = '/glade/u/home/sakor/work/CREDIT/wx_former_6h/2021-02-13T00Z/pred_2021-02-13T00Z_042.nc'\n",
    "# fuxi_6h_dic['t7'] = '/glade/u/home/sakor/work/CREDIT/wx_former_6h/2021-02-13T00Z/ pred_2021-02-13T00Z_048.nc'\n"
   ]
  },
  {
   "cell_type": "code",
   "execution_count": 23,
   "id": "887b0d83-3388-4146-bda5-17b8056cdaa1",
   "metadata": {},
   "outputs": [],
   "source": [
    "# wx_6h_dic = {}\n",
    "# for key, value in wxformer_1h_dic.items():\n",
    "#     print(key,value)\n",
    "#     wx_6h_dic[key] = "
   ]
  },
  {
   "cell_type": "code",
   "execution_count": null,
   "id": "75608b09-397d-4f5f-aeb7-c6a7476f50fd",
   "metadata": {},
   "outputs": [],
   "source": []
  }
 ],
 "metadata": {
  "kernelspec": {
   "display_name": "Python [conda env:miniconda3-credit]",
   "language": "python",
   "name": "conda-env-miniconda3-credit-py"
  },
  "language_info": {
   "codemirror_mode": {
    "name": "ipython",
    "version": 3
   },
   "file_extension": ".py",
   "mimetype": "text/x-python",
   "name": "python",
   "nbconvert_exporter": "python",
   "pygments_lexer": "ipython3",
   "version": "3.10.16"
  }
 },
 "nbformat": 4,
 "nbformat_minor": 5
}
