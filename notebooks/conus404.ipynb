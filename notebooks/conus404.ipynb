{
 "cells": [
  {
   "cell_type": "code",
   "execution_count": 1,
   "id": "dccc5e81-8c9d-4e12-8e57-4ffa43ac2551",
   "metadata": {},
   "outputs": [
    {
     "name": "stderr",
     "output_type": "stream",
     "text": [
      "/glade/work/schreck/conda-envs/holodec/lib/python3.10/site-packages/torchvision/io/image.py:13: UserWarning: Failed to load image Python extension: '/glade/work/schreck/conda-envs/holodec/lib/python3.10/site-packages/torchvision/image.so: undefined symbol: _ZN3c1017RegisterOperatorsD1Ev'If you don't plan on using image functionality from `torchvision.io`, you can ignore this warning. Otherwise, there might be something wrong with your environment. Did you have `libjpeg` or `libpng` installed before building `torchvision` from source?\n",
      "  warn(\n"
     ]
    }
   ],
   "source": [
    "from typing import Optional, Callable, TypedDict, Union, Iterable, NamedTuple, List\n",
    "from dataclasses import dataclass, field\n",
    "import numpy as np\n",
    "import pandas as pd\n",
    "import xarray as xr\n",
    "import torch\n",
    "from torch.utils.data import get_worker_info\n",
    "from torch.utils.data.distributed import DistributedSampler\n",
    "import torch.utils.data\n",
    "import datetime\n",
    "import os\n",
    "from glob import glob\n",
    "from itertools import repeat\n",
    "from timeit import timeit\n",
    "import yaml\n",
    "\n",
    "from torchvision import transforms\n",
    "from credit.transforms404 import NormalizeState, ToTensor, load_transforms\n",
    "from credit.data import CONUS404Dataset"
   ]
  },
  {
   "cell_type": "code",
   "execution_count": 42,
   "id": "ca93f3c8-0221-4d31-82d5-9b57755504ff",
   "metadata": {},
   "outputs": [],
   "source": [
    "config = \"../config/conus404.yml\""
   ]
  },
  {
   "cell_type": "code",
   "execution_count": 43,
   "id": "4396efcc-87d1-4aae-9852-500b105c234a",
   "metadata": {},
   "outputs": [],
   "source": [
    "with open(config) as cf:\n",
    "    conf = yaml.load(cf, Loader=yaml.FullLoader)"
   ]
  },
  {
   "cell_type": "code",
   "execution_count": 44,
   "id": "19aa329f-a981-4908-bd28-7726f92d67a2",
   "metadata": {},
   "outputs": [
    {
     "data": {
      "text/plain": [
       "{'variables': ['PSFC',\n",
       "  'Q500',\n",
       "  'Q850',\n",
       "  'T2',\n",
       "  'T500',\n",
       "  'T850',\n",
       "  'totalVap',\n",
       "  'U10',\n",
       "  'U1000',\n",
       "  'U250',\n",
       "  'U500',\n",
       "  'U850',\n",
       "  'V10',\n",
       "  'V1000',\n",
       "  'V250',\n",
       "  'V500',\n",
       "  'V850',\n",
       "  'Z050',\n",
       "  'Z1000',\n",
       "  'Z500',\n",
       "  'Z850'],\n",
       " 'static_variables': [],\n",
       " 'scaler_type': 'std',\n",
       " 'save_loc': '/glade/derecho/scratch/mcginnis/???*',\n",
       " 'mean_path': '/glade/derecho/scratch/mcginnis/STAGING/All_2010_staged.mean.Lev.SLO.nc',\n",
       " 'std_path': '/glade/derecho/scratch/mcginnis/STAGING/All_2010_staged.std.Lev.SLO.nc',\n",
       " 'history_len': 2,\n",
       " 'forecast_len': 1,\n",
       " 'valid_history_len': 2,\n",
       " 'valid_forecast_len': 1,\n",
       " 'time_step': 1}"
      ]
     },
     "execution_count": 44,
     "metadata": {},
     "output_type": "execute_result"
    }
   ],
   "source": [
    "conf['data']"
   ]
  },
  {
   "cell_type": "code",
   "execution_count": 97,
   "id": "949eca4c-8dc3-4aed-8312-7b8b6627cbd3",
   "metadata": {},
   "outputs": [],
   "source": [
    "import torch\n",
    "import logging\n",
    "import numpy as np\n",
    "import xarray as xr\n",
    "from credit.data import Sample\n",
    "from typing import Dict\n",
    "from torchvision import transforms as tforms\n",
    "\n",
    "class ToTensor:\n",
    "    def __init__(self, conf):\n",
    "        self.conf = conf\n",
    "        self.hist_len = int(conf[\"data\"][\"history_len\"])\n",
    "        self.for_len = int(conf[\"data\"][\"forecast_len\"])\n",
    "        self.variables = conf[\"data\"][\"variables\"]\n",
    "        self.static_variables = conf[\"data\"][\"static_variables\"]\n",
    "        #self.x = 1016\n",
    "        #self.y = 1638\n",
    "        self.slice_x = slice(120, 632, None)\n",
    "        self.slice_y = slice(300, 812, None)\n",
    "\n",
    "    def __call__(self, sample: Sample) -> Sample:\n",
    "\n",
    "        return_dict = {}\n",
    "\n",
    "        for key, value in sample.items():\n",
    "            if key == 'historical_ERA5_images' or key == 'x':\n",
    "                self.datetime = value['Time']\n",
    "                self.doy = value['Time.dayofyear']\n",
    "                self.hod = value['Time.hour']\n",
    "\n",
    "            if isinstance(value, xr.DataArray):\n",
    "                value_var = value.values\n",
    "\n",
    "            elif isinstance(value, xr.Dataset):\n",
    "                concatenated_vars = []\n",
    "                for vv in self.variables:\n",
    "                    value_var = value[vv].values\n",
    "                    if len(value_var.shape) == 4: # some seem to have extra single dimensions\n",
    "                        value_var = value_var.squeeze(1)\n",
    "                    concatenated_vars.append(value_var[:, self.slice_x, self.slice_y])\n",
    "                concatenated_vars = np.array(concatenated_vars)\n",
    "\n",
    "            else:\n",
    "                value_var = value\n",
    "\n",
    "            if key == 'x':\n",
    "                x = torch.as_tensor(np.vstack([np.expand_dims(x, axis=0) for x in concatenated_vars]))\n",
    "                return_dict['x'] = x\n",
    "\n",
    "            elif key == 'y':\n",
    "                y = torch.as_tensor(np.vstack([np.expand_dims(x, axis=0) for x in concatenated_vars]))\n",
    "                return_dict['y'] = y\n",
    "\n",
    "        if self.static_variables:\n",
    "            pass\n",
    "\n",
    "        return return_dict\n"
   ]
  },
  {
   "cell_type": "code",
   "execution_count": 98,
   "id": "d7a4d677-dc2e-4fb9-b8ac-8d2152d0ec07",
   "metadata": {},
   "outputs": [],
   "source": [
    "transform = transforms.Compose([\n",
    "    #NormalizeState(conf[\"data\"][\"mean_path\"],conf[\"data\"][\"std_path\"]),\n",
    "    ToTensor(conf)\n",
    "])"
   ]
  },
  {
   "cell_type": "code",
   "execution_count": 99,
   "id": "257af010-2ee2-47fe-b4a5-75c2778d9609",
   "metadata": {},
   "outputs": [],
   "source": [
    "dataset = CONUS404Dataset(\n",
    "    zarrpath = \"/glade/campaign/ral/risc/DATA/conus404/zarr\",\n",
    "    varnames = conf['data']['variables'],\n",
    "    history_len = conf['data']['history_len'],\n",
    "    forecast_len = conf['data']['forecast_len'],\n",
    "    transform = transform\n",
    ")"
   ]
  },
  {
   "cell_type": "code",
   "execution_count": 100,
   "id": "5db456a3-0261-439c-8b95-bef32d395896",
   "metadata": {},
   "outputs": [],
   "source": [
    "result = dataset.__getitem__(0)"
   ]
  },
  {
   "cell_type": "code",
   "execution_count": 103,
   "id": "31569145-8b17-48a5-9ce7-a66c68cb99b4",
   "metadata": {},
   "outputs": [
    {
     "data": {
      "text/plain": [
       "torch.Size([21, 2, 512, 512])"
      ]
     },
     "execution_count": 103,
     "metadata": {},
     "output_type": "execute_result"
    }
   ],
   "source": [
    "result['x'].shape # (C, T, L, W)"
   ]
  },
  {
   "cell_type": "code",
   "execution_count": 102,
   "id": "c9d1c4aa-e361-45c1-8bc0-467df38ee248",
   "metadata": {},
   "outputs": [
    {
     "data": {
      "text/plain": [
       "torch.Size([21, 1, 512, 512])"
      ]
     },
     "execution_count": 102,
     "metadata": {},
     "output_type": "execute_result"
    }
   ],
   "source": [
    "result['y'].shape # (C, T, L, W)"
   ]
  },
  {
   "cell_type": "code",
   "execution_count": null,
   "id": "c97eeb65-78aa-4b56-9479-1519ac4a8258",
   "metadata": {},
   "outputs": [],
   "source": []
  },
  {
   "cell_type": "code",
   "execution_count": null,
   "id": "77e5045b-5f75-4fbd-b4c6-96014676e34c",
   "metadata": {},
   "outputs": [],
   "source": []
  }
 ],
 "metadata": {
  "kernelspec": {
   "display_name": "holodec",
   "language": "python",
   "name": "holodec"
  },
  "language_info": {
   "codemirror_mode": {
    "name": "ipython",
    "version": 3
   },
   "file_extension": ".py",
   "mimetype": "text/x-python",
   "name": "python",
   "nbconvert_exporter": "python",
   "pygments_lexer": "ipython3",
   "version": "3.10.9"
  }
 },
 "nbformat": 4,
 "nbformat_minor": 5
}
