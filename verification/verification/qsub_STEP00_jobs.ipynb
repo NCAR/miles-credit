{
 "cells": [
  {
   "cell_type": "markdown",
   "id": "c08f3d0e-0253-4361-bf2f-1256f14a5860",
   "metadata": {},
   "source": [
    "# Generate qsub scripts for STEP00 operations\n",
    "\n",
    "This notebook generates a set of PBS scripts and a bash script that submits all the PBS jobs. It works on the data analysis server of NSF NCAR: `casper.ucar.edu`."
   ]
  },
  {
   "cell_type": "code",
   "execution_count": 14,
   "id": "5dbcd2b8-5b08-4256-bb8d-ebbc0643a9d7",
   "metadata": {},
   "outputs": [],
   "source": [
    "import os\n",
    "import yaml\n",
    "import numpy as np"
   ]
  },
  {
   "cell_type": "markdown",
   "id": "7b31127d-d51c-4eea-ab1a-498a3204fdb6",
   "metadata": {},
   "source": [
    "## Open the Config"
   ]
  },
  {
   "cell_type": "code",
   "execution_count": 15,
   "id": "4c59104c-6148-4077-a334-6cd4e3a91aee",
   "metadata": {},
   "outputs": [],
   "source": [
    "config_name = os.path.realpath('verif_config.yml')\n",
    "\n",
    "with open(config_name, 'r') as stream:\n",
    "    conf = yaml.safe_load(stream)"
   ]
  },
  {
   "cell_type": "markdown",
   "id": "b8f4cdff-696a-446b-9758-995b8f20fb30",
   "metadata": {},
   "source": [
    "## Set the Number of Forecasts Present"
   ]
  },
  {
   "cell_type": "code",
   "execution_count": 16,
   "id": "4e87725f-c380-4b19-8ce1-51a81d093fb7",
   "metadata": {},
   "outputs": [],
   "source": [
    "N_fcsts = 2894 #2*(365+366+365)\n",
    "INDs = np.arange(0, N_fcsts+10, 10)\n",
    "INDs[-1] = N_fcsts"
   ]
  },
  {
   "cell_type": "markdown",
   "id": "52b552a6-5634-472f-a539-481826c8f780",
   "metadata": {},
   "source": [
    "## Generate the QSUB for Gathering the Forecasts"
   ]
  },
  {
   "cell_type": "code",
   "execution_count": 17,
   "id": "182df2fc-3d68-449c-a3b3-cd1914a6aa76",
   "metadata": {},
   "outputs": [],
   "source": [
    "for i, ind_start in enumerate(INDs[:-1]):\n",
    "    \n",
    "    ind_end = INDs[i+1]\n",
    "    \n",
    "    f = open('{}gather_ForecastModel_{:03d}.sh'.format(conf['qsub']['qsub_loc'], i), 'w') \n",
    "    \n",
    "    heads = '''#!/bin/bash -l\n",
    "\n",
    "#PBS -N gather_ForecastModel\n",
    "#PBS -A {project_code}\n",
    "#PBS -l walltime=23:59:59\n",
    "#PBS -l select=1:ncpus=4:mem=32GB\n",
    "#PBS -q casper\n",
    "#PBS -o gather_ForecastModel.log\n",
    "#PBS -e gather_ForecastModel.err\n",
    "\n",
    "module load conda\n",
    "conda activate {conda_env}\n",
    "cd {scripts_loc}\n",
    "python STEP00_gather_ForecastModel.py {ind_start} {ind_end}\n",
    "'''.format(project_code=conf['qsub']['project_code'],\n",
    "           conda_env=conf['qsub']['conda_env'],\n",
    "           scripts_loc=conf['qsub']['scripts_loc'], \n",
    "           ind_start=ind_start, \n",
    "           ind_end=ind_end)\n",
    "    \n",
    "    print(heads, file=f)    \n",
    "    f.close()\n",
    "\n",
    "f = open('{}step00_gather_ForecastModel_all.sh'.format(conf['qsub']['qsub_loc']), 'w')\n",
    "\n",
    "for i, ind_start in enumerate(INDs[:-1]):\n",
    "    print('qsub gather_ForecastModel_{:03d}.sh'.format(i), file=f)\n",
    "    \n",
    "f.close()\n"
   ]
  },
  {
   "cell_type": "code",
   "execution_count": null,
   "id": "2d3f2601-dfa7-4218-8403-ffaaa4b5712d",
   "metadata": {},
   "outputs": [],
   "source": []
  }
 ],
 "metadata": {
  "kernelspec": {
   "display_name": "Python 3 (ipykernel)",
   "language": "python",
   "name": "python3"
  },
  "language_info": {
   "codemirror_mode": {
    "name": "ipython",
    "version": 3
   },
   "file_extension": ".py",
   "mimetype": "text/x-python",
   "name": "python",
   "nbconvert_exporter": "python",
   "pygments_lexer": "ipython3",
   "version": "3.10.13"
  }
 },
 "nbformat": 4,
 "nbformat_minor": 5
}
