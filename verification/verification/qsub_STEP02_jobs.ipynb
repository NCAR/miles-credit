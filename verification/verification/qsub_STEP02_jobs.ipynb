{
 "cells": [
  {
   "cell_type": "markdown",
   "id": "3cec30bf-f012-4486-b13a-284f8a87163b",
   "metadata": {},
   "source": [
    "# Generate qsub scripts for STEP02 operations\n",
    "\n",
    "This notebook generates a set of PBS scripts and a bash script that submits all the PBS jobs. It works on the data analysis server of NSF NCAR: `casper.ucar.edu`."
   ]
  },
  {
   "cell_type": "code",
   "execution_count": 1,
   "id": "5dbcd2b8-5b08-4256-bb8d-ebbc0643a9d7",
   "metadata": {},
   "outputs": [],
   "source": [
    "import os\n",
    "import yaml\n",
    "import numpy as np"
   ]
  },
  {
   "cell_type": "markdown",
   "id": "91d66d5e-4813-4102-8068-2344dd4cad32",
   "metadata": {},
   "source": [
    "# Open the Config"
   ]
  },
  {
   "cell_type": "code",
   "execution_count": 2,
   "id": "3f4d0e97-d0f1-4507-a92b-3066391a21f4",
   "metadata": {},
   "outputs": [],
   "source": [
    "config_name = os.path.realpath('verif_config.yml')\n",
    "\n",
    "with open(config_name, 'r') as stream:\n",
    "    conf = yaml.safe_load(stream)"
   ]
  },
  {
   "cell_type": "markdown",
   "id": "29cdf62b-6598-4890-ab39-2f58af7b9b4e",
   "metadata": {},
   "source": [
    "## Set the Number of Forecasts Present"
   ]
  },
  {
   "cell_type": "code",
   "execution_count": 3,
   "id": "dfba742e-29be-4543-9de7-476534e42999",
   "metadata": {},
   "outputs": [],
   "source": [
    "IND_max = 2*(365+366+365)\n",
    "INDs = np.arange(0, IND_max+100, 100)\n",
    "INDs[-1] = IND_max"
   ]
  },
  {
   "cell_type": "markdown",
   "id": "c26ed2be-99f8-46e9-b393-022c0e8940c5",
   "metadata": {},
   "source": [
    "## Generate the QSUB for Gathering the Forecasts - RMSE"
   ]
  },
  {
   "cell_type": "code",
   "execution_count": 4,
   "id": "05cfeb82-6837-44ad-bb8f-c3d7fc6905e3",
   "metadata": {},
   "outputs": [],
   "source": [
    "for i, ind_start in enumerate(INDs[:-1]):\n",
    "    \n",
    "    ind_end = INDs[i+1]\n",
    "    \n",
    "    f = open('{}verif_RMSE_MF_{:03d}.sh'.format(conf['qsub']['qsub_loc'], i), 'w') \n",
    "    \n",
    "    heads = '''#!/bin/bash -l\n",
    "\n",
    "#PBS -N RMSE_MF\n",
    "#PBS -A {project_code}\n",
    "#PBS -l walltime=23:59:59\n",
    "#PBS -l select=1:ncpus=4:mem=16GB\n",
    "#PBS -q casper\n",
    "#PBS -o verif_RMSE_MF.log\n",
    "#PBS -e verif_RMSE_MF.err\n",
    "\n",
    "module load conda\n",
    "conda activate {conda_env}\n",
    "cd {scripts_loc}\n",
    "python STEP02_RMSE_ForecastModel.py {ind_start} {ind_end}\n",
    "'''.format(project_code=conf['qsub']['project_code'],\n",
    "           conda_env=conf['qsub']['conda_env'],\n",
    "           scripts_loc=conf['qsub']['scripts_loc'], \n",
    "           ind_start=ind_start, \n",
    "           ind_end=ind_end)\n",
    "    \n",
    "    print(heads, file=f)    \n",
    "    f.close()\n",
    "\n",
    "f = open('{}step02_RMSE_MF_all.sh'.format(conf['qsub']['qsub_loc']), 'w')\n",
    "\n",
    "for i, ind_start in enumerate(INDs[:-1]):\n",
    "    print('qsub verif_RMSE_MF_{:03d}.sh'.format(i), file=f)\n",
    "    \n",
    "f.close()\n"
   ]
  },
  {
   "cell_type": "markdown",
   "id": "cd2d6f1f-4ba6-44bd-8fd1-75a89e8171a8",
   "metadata": {},
   "source": [
    "## Generate the QSUB for Gathering the Forecasts - ACC"
   ]
  },
  {
   "cell_type": "code",
   "execution_count": null,
   "id": "4d570984-727f-4e64-9a90-1cde22621edb",
   "metadata": {},
   "outputs": [],
   "source": [
    "for i, ind_start in enumerate(INDs[:-1]):\n",
    "    \n",
    "    ind_end = INDs[i+1]\n",
    "    \n",
    "    f = open('{}verif_ACC_MF_{:03d}.sh'.format(conf['qsub']['qsub_loc'], i), 'w') \n",
    "    \n",
    "    heads = '''#!/bin/bash -l\n",
    "\n",
    "#PBS -N ACC_MF\n",
    "#PBS -A {project_code}\n",
    "#PBS -l walltime=11:59:59\n",
    "#PBS -l select=1:ncpus=4:mem=64GB\n",
    "#PBS -q casper\n",
    "#PBS -o verif_ACC_MF.log\n",
    "#PBS -e verif_ACC_MF.err\n",
    "\n",
    "module load conda\n",
    "conda activate {conda_env}\n",
    "cd {scripts_loc}\n",
    "python STEP02_ACC_ForecastModel.py {ind_start} {ind_end}\n",
    "'''.format(project_code=conf['qsub']['project_code'],\n",
    "           conda_env=conf['qsub']['conda_env'],\n",
    "           scripts_loc=conf['qsub']['scripts_loc'], \n",
    "           ind_start=ind_start, \n",
    "           ind_end=ind_end)\n",
    "    \n",
    "    print(heads, file=f)    \n",
    "    f.close()\n",
    "\n",
    "f = open('{}step02_ACC_MF_all.sh'.format(conf['qsub']['qsub_loc']), 'w')\n",
    "\n",
    "for i, ind_start in enumerate(INDs[:-1]):\n",
    "    print('qsub verif_ACC_MF_{:03d}.sh'.format(i), file=f)\n",
    "    \n",
    "f.close()\n"
   ]
  }
 ],
 "metadata": {
  "kernelspec": {
   "display_name": "NPL 2024b",
   "language": "python",
   "name": "npl-2024b"
  },
  "language_info": {
   "codemirror_mode": {
    "name": "ipython",
    "version": 3
   },
   "file_extension": ".py",
   "mimetype": "text/x-python",
   "name": "python",
   "nbconvert_exporter": "python",
   "pygments_lexer": "ipython3",
   "version": "3.11.9"
  }
 },
 "nbformat": 4,
 "nbformat_minor": 5
}
