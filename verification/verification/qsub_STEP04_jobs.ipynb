{
 "cells": [
  {
   "cell_type": "markdown",
   "id": "3cec30bf-f012-4486-b13a-284f8a87163b",
   "metadata": {},
   "source": [
    "# Generate qsub scripts for STEP04 operations\n",
    "\n",
    "This notebook generates a set of PBS scripts and a bash script that submits all the PBS jobs. It works on the data analysis server of NSF NCAR: `casper.ucar.edu`."
   ]
  },
  {
   "cell_type": "code",
   "execution_count": 1,
   "id": "5dbcd2b8-5b08-4256-bb8d-ebbc0643a9d7",
   "metadata": {},
   "outputs": [],
   "source": [
    "import os\n",
    "import yaml\n",
    "import numpy as np"
   ]
  },
  {
   "cell_type": "markdown",
   "id": "91d66d5e-4813-4102-8068-2344dd4cad32",
   "metadata": {},
   "source": [
    "## Open the config"
   ]
  },
  {
   "cell_type": "code",
   "execution_count": 3,
   "id": "dd8afcb2-00d9-4c1f-a297-3018817a96d1",
   "metadata": {},
   "outputs": [],
   "source": [
    "config_name = os.path.realpath('verif_config.yml')\n",
    "\n",
    "with open(config_name, 'r') as stream:\n",
    "    conf = yaml.safe_load(stream)"
   ]
  },
  {
   "cell_type": "markdown",
   "id": "cecc60ce-eb68-4be3-b695-6002e56e7512",
   "metadata": {},
   "source": [
    "## Set the Number of Forecasts"
   ]
  },
  {
   "cell_type": "code",
   "execution_count": 4,
   "id": "dfba742e-29be-4543-9de7-476534e42999",
   "metadata": {},
   "outputs": [],
   "source": [
    "IND_max = 4*(365+366+365)\n",
    "INDs = np.arange(0, IND_max+50, 50)\n",
    "INDs[-1] = IND_max"
   ]
  },
  {
   "cell_type": "markdown",
   "id": "7da7fd11-1707-4528-b4ea-376538cad84d",
   "metadata": {},
   "source": [
    "## Generate Qsub Scripts for ERA5 6H"
   ]
  },
  {
   "cell_type": "code",
   "execution_count": 2,
   "id": "1f5715a8-22f9-4091-a177-a84ea7cebaa1",
   "metadata": {},
   "outputs": [],
   "source": [
    "for i, ind_start in enumerate(INDs[:-1]):\n",
    "    \n",
    "    ind_end = INDs[i+1]\n",
    "    \n",
    "    f = open('{}verif_CORR_ERA5_{:03d}_6h.sh'.format(conf['qsub']['qsub_loc'], i), 'w') \n",
    "    \n",
    "    heads = '''#!/bin/bash -l\n",
    "\n",
    "#PBS -N CORR_ERA5\n",
    "#PBS -A {project_code}\n",
    "#PBS -l walltime=23:59:59\n",
    "#PBS -l select=1:ncpus=4:mem=16GB\n",
    "#PBS -q casper\n",
    "#PBS -o verif_CORR_ERA5.log\n",
    "#PBS -e verif_CORR_ERA5.err\n",
    "\n",
    "module load conda\n",
    "conda activate {conda_env}\n",
    "cd {scripts_loc}\n",
    "python STEP04_spatial_corr_ERA5_6h.py {ind_start} {ind_end}\n",
    "'''.format(project_code=conf['qsub']['project_code'],\n",
    "           conda_env=conf['qsub']['conda_env'],\n",
    "           scripts_loc=conf['qsub']['scripts_loc'], \n",
    "           ind_start=ind_start, \n",
    "           ind_end=ind_end)\n",
    "    \n",
    "    print(heads, file=f)    \n",
    "    f.close()\n",
    "\n",
    "f = open('{}step04_CORR_ERA5_all_6h.sh'.format(conf['qsub']['qsub_loc']), 'w')\n",
    "\n",
    "for i, ind_start in enumerate(INDs[:-1]):\n",
    "    print('qsub verif_CORR_ERA5_{:03d}_6h.sh'.format(i), file=f)\n",
    "    \n",
    "f.close()\n"
   ]
  },
  {
   "cell_type": "markdown",
   "id": "49bdcc2e-4fd1-4396-b2b8-44ae0170b82c",
   "metadata": {},
   "source": [
    "## Generate Qsub Scripts for ERA5 1H"
   ]
  },
  {
   "cell_type": "code",
   "execution_count": 6,
   "id": "1f51ca9b-a62e-4536-8854-51108bbb476b",
   "metadata": {},
   "outputs": [],
   "source": [
    "IND_max = 24*(365+366+365)\n",
    "INDs = np.arange(0, IND_max+200, 200)\n",
    "INDs[-1] = IND_max"
   ]
  },
  {
   "cell_type": "code",
   "execution_count": 7,
   "id": "f13cceae-a5f6-46dd-a7d6-3319319acaa3",
   "metadata": {},
   "outputs": [],
   "source": [
    "for i, ind_start in enumerate(INDs[:-1]):\n",
    "    \n",
    "    ind_end = INDs[i+1]\n",
    "    \n",
    "    f = open('{}verif_CORR_ERA5_{:03d}_1h.sh'.format(conf['qsub']['qsub_loc'], i), 'w') \n",
    "    \n",
    "    heads = '''#!/bin/bash -l\n",
    "\n",
    "#PBS -N CORR_ERA5\n",
    "#PBS -A {project_code}\n",
    "#PBS -l walltime=23:59:59\n",
    "#PBS -l select=1:ncpus=4:mem=16GB\n",
    "#PBS -q casper\n",
    "#PBS -o verif_CORR_ERA5.log\n",
    "#PBS -e verif_CORR_ERA5.err\n",
    "\n",
    "module load conda\n",
    "conda activate {conda_env}\n",
    "cd {scripts_loc}\n",
    "python STEP04_spatial_corr_ERA5_1h.py {ind_start} {ind_end}\n",
    "'''.format(project_code=conf['qsub']['project_code'],\n",
    "           conda_env=conf['qsub']['conda_env'],\n",
    "           scripts_loc=conf['qsub']['scripts_loc'], \n",
    "           ind_start=ind_start, \n",
    "           ind_end=ind_end)\n",
    "    \n",
    "    print(heads, file=f)    \n",
    "    f.close()\n",
    "\n",
    "f = open('{}step04_CORR_ERA5_all_1h.sh'.format(conf['qsub']['qsub_loc']), 'w')\n",
    "\n",
    "for i, ind_start in enumerate(INDs[:-1]):\n",
    "    print('qsub verif_CORR_ERA5_{:03d}_1h.sh'.format(i), file=f)\n",
    "    \n",
    "f.close()\n"
   ]
  },
  {
   "cell_type": "markdown",
   "id": "181f0c18-50f6-4264-a7ab-9add5e297e55",
   "metadata": {},
   "source": [
    "## Generate Qsub Scripts for Forecast Model"
   ]
  },
  {
   "cell_type": "code",
   "execution_count": null,
   "id": "6e22bea7-8818-4ed0-9b7c-d8fa60563b61",
   "metadata": {},
   "outputs": [],
   "source": [
    "for i, ind_start in enumerate(INDs[:-1]):\n",
    "    \n",
    "    ind_end = INDs[i+1]\n",
    "    \n",
    "    f = open('{}verif_CORR_MF_{:03d}.sh'.format(conf['qsub']['qsub_loc'], i), 'w') \n",
    "    \n",
    "    heads = '''#!/bin/bash -l\n",
    "\n",
    "#PBS -N CORR_MF\n",
    "#PBS -A {project_code}\n",
    "#PBS -l walltime=10:59:59\n",
    "#PBS -l select=1:ncpus=4\n",
    "#PBS -q main\n",
    "#PBS -o verif_CORR_MF.log\n",
    "#PBS -e verif_CORR_MF.err\n",
    "\n",
    "module load conda\n",
    "conda activate {conda_env}\n",
    "cd {scripts_loc}\n",
    "python STEP04_spatial_corr_ForecastModel.py {ind_start} {ind_end}\n",
    "'''.format(project_code=conf['qsub']['project_code'],\n",
    "           conda_env=conf['qsub']['conda_env'],\n",
    "           scripts_loc=conf['qsub']['scripts_loc'], \n",
    "           ind_start=ind_start, \n",
    "           ind_end=ind_end)\n",
    "    \n",
    "    print(heads, file=f)    \n",
    "    f.close()\n",
    "\n",
    "f = open('{}step04_CORR_MF_all.sh'.format(conf['qsub']['qsub_loc']), 'w')\n",
    "\n",
    "for i, ind_start in enumerate(INDs[:-1]):\n",
    "    print('qsub verif_CORR_MF_{:03d"
   ]
  },
  {
   "cell_type": "code",
   "execution_count": null,
   "id": "fe59f92b-1c78-4a3c-aabc-c6fc092f70ed",
   "metadata": {},
   "outputs": [],
   "source": []
  }
 ],
 "metadata": {
  "kernelspec": {
   "display_name": "Python 3 (ipykernel)",
   "language": "python",
   "name": "python3"
  },
  "language_info": {
   "codemirror_mode": {
    "name": "ipython",
    "version": 3
   },
   "file_extension": ".py",
   "mimetype": "text/x-python",
   "name": "python",
   "nbconvert_exporter": "python",
   "pygments_lexer": "ipython3",
   "version": "3.10.13"
  }
 },
 "nbformat": 4,
 "nbformat_minor": 5
}
